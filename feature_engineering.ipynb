{
 "cells": [
  {
   "cell_type": "code",
   "execution_count": 2,
   "id": "initial_id",
   "metadata": {
    "collapsed": true,
    "ExecuteTime": {
     "end_time": "2024-06-14T09:46:43.172628Z",
     "start_time": "2024-06-14T09:46:42.479391Z"
    }
   },
   "outputs": [],
   "source": [
    "import pandas as pd\n",
    "import numpy as np\n",
    "\n",
    "# Load the data (have to change the name for each sport\n",
    "cycling_path = 'clean_data_cycling.csv'\n",
    "strength_path = 'clean_data_strength.csv'\n",
    "elyptic_path = 'clean_data_elyptic.csv'\n",
    "\n",
    "cycling_data = pd.read_csv(cycling_path)\n",
    "strength_data = pd.read_csv(strength_path)\n",
    "elyptic_data = pd.read_csv(elyptic_path)"
   ]
  },
  {
   "cell_type": "code",
   "outputs": [
    {
     "data": {
      "text/plain": "               time  rotationRateX  rotationRateY  rotationRateZ  gravityX  \\\n0      171829243429      -0.246384      -0.081519       0.110493  0.317334   \n1      171829243434      -0.138480      -0.123311       0.156557  0.319853   \n2      171829243439      -0.078834      -0.117711       0.288981  0.324156   \n3      171829243444       0.135324      -0.119591       0.278078  0.331465   \n4      171829243449       0.171445      -0.084271       0.341000  0.341875   \n...             ...            ...            ...            ...       ...   \n94674  171831230601      -0.048556      -0.015872       0.065269 -0.096203   \n94675  171831230606       0.147562      -0.068622       0.042911 -0.095310   \n94676  171831230611      -0.053198      -0.030381       0.020455 -0.095181   \n94677  171831230616      -0.084135      -0.054557       0.009571 -0.094891   \n94678  171831230620      -0.297640      -0.068602      -0.004050 -0.095701   \n\n       gravityY  gravityZ  accelerationX  accelerationY  accelerationZ  ...  \\\n0      0.813489 -0.487376      -0.042294      -0.031018       0.024852  ...   \n1      0.817145 -0.479550      -0.028440       0.049691      -0.053638  ...   \n2      0.815928 -0.478733      -0.063689      -0.070124      -0.042721  ...   \n3      0.810568 -0.482816      -0.048292       0.014734      -0.036853  ...   \n4      0.801126 -0.491243       0.001311       0.071738      -0.023100  ...   \n...         ...       ...            ...            ...            ...  ...   \n94674  0.884213 -0.457069       0.000530      -0.030408       0.002205  ...   \n94675  0.883170 -0.459267       0.018817       0.034326       0.003167  ...   \n94676  0.882081 -0.461383      -0.004535      -0.012269      -0.014447  ...   \n94677  0.883654 -0.458422       0.006162      -0.007907       0.002276  ...   \n94678  0.886203 -0.453305      -0.002321      -0.017490      -0.041614  ...   \n\n       quaternionY  quaternionZ    z_gyro    y_gyro    x_gyro     z_acc  \\\n0        -0.437900     0.852192 -0.138021 -0.582045 -0.219524 -0.243557   \n1        -0.442362     0.850672 -0.203224 -0.220469 -0.020842 -0.788626   \n2        -0.443388     0.851395 -0.172186 -0.185771  0.024884 -0.398124   \n3        -0.441038     0.853461 -0.156555 -0.071315  0.144891 -0.001588   \n4        -0.435520     0.856728 -0.313300  0.043542  0.165136  0.145781   \n...            ...          ...       ...       ...       ...       ...   \n94674    -0.148407     0.153197 -0.040254  0.185446 -0.113402 -0.374216   \n94675    -0.148382     0.154511 -0.007232 -0.051257  0.150439  0.158708   \n94676    -0.148771     0.155782  0.081558  0.102681  0.044035 -0.121265   \n94677    -0.149613     0.156787  0.099620 -0.103260  0.035884  0.277111   \n94678    -0.150923     0.157022 -0.008127  0.039121  0.072481 -0.457692   \n\n          y_acc     x_acc    bpm  sport  \n0     -0.577762 -0.190925  105.0      1  \n1     -0.268524  0.834922  105.0      1  \n2     -0.406848  0.431240  105.0      1  \n3     -0.409412 -0.190077  105.0      1  \n4     -0.103795 -0.076771  105.0      1  \n...         ...       ...    ...    ...  \n94674  0.188504 -0.186484  160.0      3  \n94675  0.182139  0.025271  160.0      3  \n94676  0.281203 -0.067331  160.0      3  \n94677 -0.019610 -0.156452  160.0      3  \n94678 -0.100605 -0.521203  160.0      3  \n\n[94679 rows x 22 columns]",
      "text/html": "<div>\n<style scoped>\n    .dataframe tbody tr th:only-of-type {\n        vertical-align: middle;\n    }\n\n    .dataframe tbody tr th {\n        vertical-align: top;\n    }\n\n    .dataframe thead th {\n        text-align: right;\n    }\n</style>\n<table border=\"1\" class=\"dataframe\">\n  <thead>\n    <tr style=\"text-align: right;\">\n      <th></th>\n      <th>time</th>\n      <th>rotationRateX</th>\n      <th>rotationRateY</th>\n      <th>rotationRateZ</th>\n      <th>gravityX</th>\n      <th>gravityY</th>\n      <th>gravityZ</th>\n      <th>accelerationX</th>\n      <th>accelerationY</th>\n      <th>accelerationZ</th>\n      <th>...</th>\n      <th>quaternionY</th>\n      <th>quaternionZ</th>\n      <th>z_gyro</th>\n      <th>y_gyro</th>\n      <th>x_gyro</th>\n      <th>z_acc</th>\n      <th>y_acc</th>\n      <th>x_acc</th>\n      <th>bpm</th>\n      <th>sport</th>\n    </tr>\n  </thead>\n  <tbody>\n    <tr>\n      <th>0</th>\n      <td>171829243429</td>\n      <td>-0.246384</td>\n      <td>-0.081519</td>\n      <td>0.110493</td>\n      <td>0.317334</td>\n      <td>0.813489</td>\n      <td>-0.487376</td>\n      <td>-0.042294</td>\n      <td>-0.031018</td>\n      <td>0.024852</td>\n      <td>...</td>\n      <td>-0.437900</td>\n      <td>0.852192</td>\n      <td>-0.138021</td>\n      <td>-0.582045</td>\n      <td>-0.219524</td>\n      <td>-0.243557</td>\n      <td>-0.577762</td>\n      <td>-0.190925</td>\n      <td>105.0</td>\n      <td>1</td>\n    </tr>\n    <tr>\n      <th>1</th>\n      <td>171829243434</td>\n      <td>-0.138480</td>\n      <td>-0.123311</td>\n      <td>0.156557</td>\n      <td>0.319853</td>\n      <td>0.817145</td>\n      <td>-0.479550</td>\n      <td>-0.028440</td>\n      <td>0.049691</td>\n      <td>-0.053638</td>\n      <td>...</td>\n      <td>-0.442362</td>\n      <td>0.850672</td>\n      <td>-0.203224</td>\n      <td>-0.220469</td>\n      <td>-0.020842</td>\n      <td>-0.788626</td>\n      <td>-0.268524</td>\n      <td>0.834922</td>\n      <td>105.0</td>\n      <td>1</td>\n    </tr>\n    <tr>\n      <th>2</th>\n      <td>171829243439</td>\n      <td>-0.078834</td>\n      <td>-0.117711</td>\n      <td>0.288981</td>\n      <td>0.324156</td>\n      <td>0.815928</td>\n      <td>-0.478733</td>\n      <td>-0.063689</td>\n      <td>-0.070124</td>\n      <td>-0.042721</td>\n      <td>...</td>\n      <td>-0.443388</td>\n      <td>0.851395</td>\n      <td>-0.172186</td>\n      <td>-0.185771</td>\n      <td>0.024884</td>\n      <td>-0.398124</td>\n      <td>-0.406848</td>\n      <td>0.431240</td>\n      <td>105.0</td>\n      <td>1</td>\n    </tr>\n    <tr>\n      <th>3</th>\n      <td>171829243444</td>\n      <td>0.135324</td>\n      <td>-0.119591</td>\n      <td>0.278078</td>\n      <td>0.331465</td>\n      <td>0.810568</td>\n      <td>-0.482816</td>\n      <td>-0.048292</td>\n      <td>0.014734</td>\n      <td>-0.036853</td>\n      <td>...</td>\n      <td>-0.441038</td>\n      <td>0.853461</td>\n      <td>-0.156555</td>\n      <td>-0.071315</td>\n      <td>0.144891</td>\n      <td>-0.001588</td>\n      <td>-0.409412</td>\n      <td>-0.190077</td>\n      <td>105.0</td>\n      <td>1</td>\n    </tr>\n    <tr>\n      <th>4</th>\n      <td>171829243449</td>\n      <td>0.171445</td>\n      <td>-0.084271</td>\n      <td>0.341000</td>\n      <td>0.341875</td>\n      <td>0.801126</td>\n      <td>-0.491243</td>\n      <td>0.001311</td>\n      <td>0.071738</td>\n      <td>-0.023100</td>\n      <td>...</td>\n      <td>-0.435520</td>\n      <td>0.856728</td>\n      <td>-0.313300</td>\n      <td>0.043542</td>\n      <td>0.165136</td>\n      <td>0.145781</td>\n      <td>-0.103795</td>\n      <td>-0.076771</td>\n      <td>105.0</td>\n      <td>1</td>\n    </tr>\n    <tr>\n      <th>...</th>\n      <td>...</td>\n      <td>...</td>\n      <td>...</td>\n      <td>...</td>\n      <td>...</td>\n      <td>...</td>\n      <td>...</td>\n      <td>...</td>\n      <td>...</td>\n      <td>...</td>\n      <td>...</td>\n      <td>...</td>\n      <td>...</td>\n      <td>...</td>\n      <td>...</td>\n      <td>...</td>\n      <td>...</td>\n      <td>...</td>\n      <td>...</td>\n      <td>...</td>\n      <td>...</td>\n    </tr>\n    <tr>\n      <th>94674</th>\n      <td>171831230601</td>\n      <td>-0.048556</td>\n      <td>-0.015872</td>\n      <td>0.065269</td>\n      <td>-0.096203</td>\n      <td>0.884213</td>\n      <td>-0.457069</td>\n      <td>0.000530</td>\n      <td>-0.030408</td>\n      <td>0.002205</td>\n      <td>...</td>\n      <td>-0.148407</td>\n      <td>0.153197</td>\n      <td>-0.040254</td>\n      <td>0.185446</td>\n      <td>-0.113402</td>\n      <td>-0.374216</td>\n      <td>0.188504</td>\n      <td>-0.186484</td>\n      <td>160.0</td>\n      <td>3</td>\n    </tr>\n    <tr>\n      <th>94675</th>\n      <td>171831230606</td>\n      <td>0.147562</td>\n      <td>-0.068622</td>\n      <td>0.042911</td>\n      <td>-0.095310</td>\n      <td>0.883170</td>\n      <td>-0.459267</td>\n      <td>0.018817</td>\n      <td>0.034326</td>\n      <td>0.003167</td>\n      <td>...</td>\n      <td>-0.148382</td>\n      <td>0.154511</td>\n      <td>-0.007232</td>\n      <td>-0.051257</td>\n      <td>0.150439</td>\n      <td>0.158708</td>\n      <td>0.182139</td>\n      <td>0.025271</td>\n      <td>160.0</td>\n      <td>3</td>\n    </tr>\n    <tr>\n      <th>94676</th>\n      <td>171831230611</td>\n      <td>-0.053198</td>\n      <td>-0.030381</td>\n      <td>0.020455</td>\n      <td>-0.095181</td>\n      <td>0.882081</td>\n      <td>-0.461383</td>\n      <td>-0.004535</td>\n      <td>-0.012269</td>\n      <td>-0.014447</td>\n      <td>...</td>\n      <td>-0.148771</td>\n      <td>0.155782</td>\n      <td>0.081558</td>\n      <td>0.102681</td>\n      <td>0.044035</td>\n      <td>-0.121265</td>\n      <td>0.281203</td>\n      <td>-0.067331</td>\n      <td>160.0</td>\n      <td>3</td>\n    </tr>\n    <tr>\n      <th>94677</th>\n      <td>171831230616</td>\n      <td>-0.084135</td>\n      <td>-0.054557</td>\n      <td>0.009571</td>\n      <td>-0.094891</td>\n      <td>0.883654</td>\n      <td>-0.458422</td>\n      <td>0.006162</td>\n      <td>-0.007907</td>\n      <td>0.002276</td>\n      <td>...</td>\n      <td>-0.149613</td>\n      <td>0.156787</td>\n      <td>0.099620</td>\n      <td>-0.103260</td>\n      <td>0.035884</td>\n      <td>0.277111</td>\n      <td>-0.019610</td>\n      <td>-0.156452</td>\n      <td>160.0</td>\n      <td>3</td>\n    </tr>\n    <tr>\n      <th>94678</th>\n      <td>171831230620</td>\n      <td>-0.297640</td>\n      <td>-0.068602</td>\n      <td>-0.004050</td>\n      <td>-0.095701</td>\n      <td>0.886203</td>\n      <td>-0.453305</td>\n      <td>-0.002321</td>\n      <td>-0.017490</td>\n      <td>-0.041614</td>\n      <td>...</td>\n      <td>-0.150923</td>\n      <td>0.157022</td>\n      <td>-0.008127</td>\n      <td>0.039121</td>\n      <td>0.072481</td>\n      <td>-0.457692</td>\n      <td>-0.100605</td>\n      <td>-0.521203</td>\n      <td>160.0</td>\n      <td>3</td>\n    </tr>\n  </tbody>\n</table>\n<p>94679 rows × 22 columns</p>\n</div>"
     },
     "execution_count": 23,
     "metadata": {},
     "output_type": "execute_result"
    }
   ],
   "source": [
    "data = pd.concat([cycling_data, strength_data, elyptic_data], axis=0, ignore_index=True)\n",
    "data"
   ],
   "metadata": {
    "collapsed": false,
    "ExecuteTime": {
     "end_time": "2024-06-14T10:56:38.362188Z",
     "start_time": "2024-06-14T10:56:38.275115Z"
    }
   },
   "id": "a2a0a0715e1468a7",
   "execution_count": 23
  },
  {
   "cell_type": "markdown",
   "source": [
    "Feature Engineering"
   ],
   "metadata": {
    "collapsed": false
   },
   "id": "1e2c6e420e50259e"
  },
  {
   "cell_type": "code",
   "outputs": [],
   "source": [
    "# Mean with windows\n",
    "def mean_features(df, window_size):\n",
    "    feature_df = pd.DataFrame()\n",
    "    for col in df.columns:\n",
    "        if col not in ['time', 'sport']:\n",
    "            feature_df[col + f'_mean{window_size}'] = df[col].rolling(window=window_size).mean()\n",
    "    return feature_df\n",
    "\n",
    "# Example usage\n",
    "# Assuming df is your DataFrame\n",
    "\n",
    "window5 = mean_features(data, 5)\n",
    "window20 = mean_features(data, 20)\n",
    "window100 = mean_features(data, 100)\n"
   ],
   "metadata": {
    "collapsed": false,
    "ExecuteTime": {
     "end_time": "2024-06-14T10:39:02.203856Z",
     "start_time": "2024-06-14T10:39:01.990401Z"
    }
   },
   "id": "758963e49979da39",
   "execution_count": 19
  },
  {
   "cell_type": "code",
   "outputs": [
    {
     "data": {
      "text/plain": "     rotationRateX_dominant_freq  rotationRateX_spectral_entropy  \\\n0                           0.02                        1.250353   \n1                           0.10                        0.705878   \n2                           0.06                       -0.033529   \n3                           0.08                       -3.487442   \n4                           0.06                        0.377963   \n..                           ...                             ...   \n942                         0.12                       -1.153989   \n943                         0.10                        1.242576   \n944                         0.06                      -11.186591   \n945                         0.06                      -32.752915   \n946                         0.08                        1.086044   \n\n     rotationRateY_dominant_freq  rotationRateY_spectral_entropy  \\\n0                           0.04                        1.065136   \n1                           0.02                        0.554046   \n2                           0.16                        1.871516   \n3                           0.40                        1.871945   \n4                           0.44                        1.937784   \n..                           ...                             ...   \n942                         0.06                       -8.419217   \n943                         0.06                        1.229809   \n944                         0.06                       -3.412632   \n945                         0.10                       -0.465000   \n946                         0.02                       -0.244311   \n\n     rotationRateZ_dominant_freq  rotationRateZ_spectral_entropy  \\\n0                           0.02                        0.024231   \n1                           0.04                        0.574681   \n2                           0.06                       -0.287566   \n3                           0.06                       -5.970553   \n4                           0.06                       -4.850922   \n..                           ...                             ...   \n942                         0.06                      -88.480863   \n943                         0.06                     -111.158361   \n944                         0.06                      -83.674915   \n945                         0.06                     -105.642170   \n946                         0.06                      -13.817313   \n\n     gravityX_dominant_freq  gravityX_spectral_entropy  \\\n0                      0.02                   0.170653   \n1                      0.02                   0.025264   \n2                      0.02                   0.198046   \n3                      0.06                   0.146250   \n4                      0.06                   0.156143   \n..                      ...                        ...   \n942                    0.06                   0.395787   \n943                    0.06                   0.338019   \n944                    0.06                   0.394511   \n945                    0.06                   0.383586   \n946                    0.06                   0.470201   \n\n     gravityY_dominant_freq  gravityY_spectral_entropy  ...  \\\n0                      0.02                   0.295288  ...   \n1                      0.02                   0.007683  ...   \n2                      0.06                   0.092824  ...   \n3                      0.02                   0.335014  ...   \n4                      0.06                   0.104842  ...   \n..                      ...                        ...  ...   \n942                    0.06                   0.021286  ...   \n943                    0.02                   0.029037  ...   \n944                    0.06                   0.070496  ...   \n945                    0.04                   0.114503  ...   \n946                    0.02                   0.038237  ...   \n\n     z_acc_dominant_freq  z_acc_spectral_entropy  y_acc_dominant_freq  \\\n0                   0.22                1.883183                 0.12   \n1                   0.02                1.822456                 0.02   \n2                   0.06             -683.788184                 0.06   \n3                   0.06            -1161.631009                 0.12   \n4                   0.06            -1980.062443                 0.14   \n..                   ...                     ...                  ...   \n942                 0.06            -2200.370394                 0.06   \n943                 0.06            -1640.153441                 0.06   \n944                 0.06            -1789.478516                 0.06   \n945                 0.06            -1605.472369                 0.06   \n946                 0.06             -243.732765                 0.06   \n\n     y_acc_spectral_entropy  x_acc_dominant_freq  x_acc_spectral_entropy  \\\n0                  1.273326                 0.20                0.807572   \n1                  0.463522                 0.02                0.556914   \n2               -281.356606                 0.16              -18.664952   \n3               -242.543217                 0.18              -51.783547   \n4               -381.499060                 0.20              -56.372320   \n..                      ...                  ...                     ...   \n942            -1430.809332                 0.16            -1780.939851   \n943             -539.474522                 0.16             -865.478046   \n944            -1079.360617                 0.16            -1843.220415   \n945             -836.457229                 0.16             -694.014513   \n946             -216.294180                 0.20             -487.080682   \n\n     bpm_dominant_freq  bpm_spectral_entropy  sport_dominant_freq  \\\n0                 0.00             -0.000000                  0.0   \n1                 0.02              0.485121                  0.0   \n2                 0.00             -0.000000                  0.0   \n3                 0.00             -0.000000                  0.0   \n4                 0.00             -0.000000                  0.0   \n..                 ...                   ...                  ...   \n942               0.00             -0.000000                  0.0   \n943               0.02             -1.109190                  0.0   \n944               0.02             -3.369145                  0.0   \n945               0.02             -3.613189                  0.0   \n946               0.00             -0.000000                  0.0   \n\n     sport_spectral_entropy  \n0                      -0.0  \n1                      -0.0  \n2                      -0.0  \n3                      -0.0  \n4                      -0.0  \n..                      ...  \n942                    -0.0  \n943                    -0.0  \n944                    -0.0  \n945                    -0.0  \n946                    -0.0  \n\n[947 rows x 42 columns]",
      "text/html": "<div>\n<style scoped>\n    .dataframe tbody tr th:only-of-type {\n        vertical-align: middle;\n    }\n\n    .dataframe tbody tr th {\n        vertical-align: top;\n    }\n\n    .dataframe thead th {\n        text-align: right;\n    }\n</style>\n<table border=\"1\" class=\"dataframe\">\n  <thead>\n    <tr style=\"text-align: right;\">\n      <th></th>\n      <th>rotationRateX_dominant_freq</th>\n      <th>rotationRateX_spectral_entropy</th>\n      <th>rotationRateY_dominant_freq</th>\n      <th>rotationRateY_spectral_entropy</th>\n      <th>rotationRateZ_dominant_freq</th>\n      <th>rotationRateZ_spectral_entropy</th>\n      <th>gravityX_dominant_freq</th>\n      <th>gravityX_spectral_entropy</th>\n      <th>gravityY_dominant_freq</th>\n      <th>gravityY_spectral_entropy</th>\n      <th>...</th>\n      <th>z_acc_dominant_freq</th>\n      <th>z_acc_spectral_entropy</th>\n      <th>y_acc_dominant_freq</th>\n      <th>y_acc_spectral_entropy</th>\n      <th>x_acc_dominant_freq</th>\n      <th>x_acc_spectral_entropy</th>\n      <th>bpm_dominant_freq</th>\n      <th>bpm_spectral_entropy</th>\n      <th>sport_dominant_freq</th>\n      <th>sport_spectral_entropy</th>\n    </tr>\n  </thead>\n  <tbody>\n    <tr>\n      <th>0</th>\n      <td>0.02</td>\n      <td>1.250353</td>\n      <td>0.04</td>\n      <td>1.065136</td>\n      <td>0.02</td>\n      <td>0.024231</td>\n      <td>0.02</td>\n      <td>0.170653</td>\n      <td>0.02</td>\n      <td>0.295288</td>\n      <td>...</td>\n      <td>0.22</td>\n      <td>1.883183</td>\n      <td>0.12</td>\n      <td>1.273326</td>\n      <td>0.20</td>\n      <td>0.807572</td>\n      <td>0.00</td>\n      <td>-0.000000</td>\n      <td>0.0</td>\n      <td>-0.0</td>\n    </tr>\n    <tr>\n      <th>1</th>\n      <td>0.10</td>\n      <td>0.705878</td>\n      <td>0.02</td>\n      <td>0.554046</td>\n      <td>0.04</td>\n      <td>0.574681</td>\n      <td>0.02</td>\n      <td>0.025264</td>\n      <td>0.02</td>\n      <td>0.007683</td>\n      <td>...</td>\n      <td>0.02</td>\n      <td>1.822456</td>\n      <td>0.02</td>\n      <td>0.463522</td>\n      <td>0.02</td>\n      <td>0.556914</td>\n      <td>0.02</td>\n      <td>0.485121</td>\n      <td>0.0</td>\n      <td>-0.0</td>\n    </tr>\n    <tr>\n      <th>2</th>\n      <td>0.06</td>\n      <td>-0.033529</td>\n      <td>0.16</td>\n      <td>1.871516</td>\n      <td>0.06</td>\n      <td>-0.287566</td>\n      <td>0.02</td>\n      <td>0.198046</td>\n      <td>0.06</td>\n      <td>0.092824</td>\n      <td>...</td>\n      <td>0.06</td>\n      <td>-683.788184</td>\n      <td>0.06</td>\n      <td>-281.356606</td>\n      <td>0.16</td>\n      <td>-18.664952</td>\n      <td>0.00</td>\n      <td>-0.000000</td>\n      <td>0.0</td>\n      <td>-0.0</td>\n    </tr>\n    <tr>\n      <th>3</th>\n      <td>0.08</td>\n      <td>-3.487442</td>\n      <td>0.40</td>\n      <td>1.871945</td>\n      <td>0.06</td>\n      <td>-5.970553</td>\n      <td>0.06</td>\n      <td>0.146250</td>\n      <td>0.02</td>\n      <td>0.335014</td>\n      <td>...</td>\n      <td>0.06</td>\n      <td>-1161.631009</td>\n      <td>0.12</td>\n      <td>-242.543217</td>\n      <td>0.18</td>\n      <td>-51.783547</td>\n      <td>0.00</td>\n      <td>-0.000000</td>\n      <td>0.0</td>\n      <td>-0.0</td>\n    </tr>\n    <tr>\n      <th>4</th>\n      <td>0.06</td>\n      <td>0.377963</td>\n      <td>0.44</td>\n      <td>1.937784</td>\n      <td>0.06</td>\n      <td>-4.850922</td>\n      <td>0.06</td>\n      <td>0.156143</td>\n      <td>0.06</td>\n      <td>0.104842</td>\n      <td>...</td>\n      <td>0.06</td>\n      <td>-1980.062443</td>\n      <td>0.14</td>\n      <td>-381.499060</td>\n      <td>0.20</td>\n      <td>-56.372320</td>\n      <td>0.00</td>\n      <td>-0.000000</td>\n      <td>0.0</td>\n      <td>-0.0</td>\n    </tr>\n    <tr>\n      <th>...</th>\n      <td>...</td>\n      <td>...</td>\n      <td>...</td>\n      <td>...</td>\n      <td>...</td>\n      <td>...</td>\n      <td>...</td>\n      <td>...</td>\n      <td>...</td>\n      <td>...</td>\n      <td>...</td>\n      <td>...</td>\n      <td>...</td>\n      <td>...</td>\n      <td>...</td>\n      <td>...</td>\n      <td>...</td>\n      <td>...</td>\n      <td>...</td>\n      <td>...</td>\n      <td>...</td>\n    </tr>\n    <tr>\n      <th>942</th>\n      <td>0.12</td>\n      <td>-1.153989</td>\n      <td>0.06</td>\n      <td>-8.419217</td>\n      <td>0.06</td>\n      <td>-88.480863</td>\n      <td>0.06</td>\n      <td>0.395787</td>\n      <td>0.06</td>\n      <td>0.021286</td>\n      <td>...</td>\n      <td>0.06</td>\n      <td>-2200.370394</td>\n      <td>0.06</td>\n      <td>-1430.809332</td>\n      <td>0.16</td>\n      <td>-1780.939851</td>\n      <td>0.00</td>\n      <td>-0.000000</td>\n      <td>0.0</td>\n      <td>-0.0</td>\n    </tr>\n    <tr>\n      <th>943</th>\n      <td>0.10</td>\n      <td>1.242576</td>\n      <td>0.06</td>\n      <td>1.229809</td>\n      <td>0.06</td>\n      <td>-111.158361</td>\n      <td>0.06</td>\n      <td>0.338019</td>\n      <td>0.02</td>\n      <td>0.029037</td>\n      <td>...</td>\n      <td>0.06</td>\n      <td>-1640.153441</td>\n      <td>0.06</td>\n      <td>-539.474522</td>\n      <td>0.16</td>\n      <td>-865.478046</td>\n      <td>0.02</td>\n      <td>-1.109190</td>\n      <td>0.0</td>\n      <td>-0.0</td>\n    </tr>\n    <tr>\n      <th>944</th>\n      <td>0.06</td>\n      <td>-11.186591</td>\n      <td>0.06</td>\n      <td>-3.412632</td>\n      <td>0.06</td>\n      <td>-83.674915</td>\n      <td>0.06</td>\n      <td>0.394511</td>\n      <td>0.06</td>\n      <td>0.070496</td>\n      <td>...</td>\n      <td>0.06</td>\n      <td>-1789.478516</td>\n      <td>0.06</td>\n      <td>-1079.360617</td>\n      <td>0.16</td>\n      <td>-1843.220415</td>\n      <td>0.02</td>\n      <td>-3.369145</td>\n      <td>0.0</td>\n      <td>-0.0</td>\n    </tr>\n    <tr>\n      <th>945</th>\n      <td>0.06</td>\n      <td>-32.752915</td>\n      <td>0.10</td>\n      <td>-0.465000</td>\n      <td>0.06</td>\n      <td>-105.642170</td>\n      <td>0.06</td>\n      <td>0.383586</td>\n      <td>0.04</td>\n      <td>0.114503</td>\n      <td>...</td>\n      <td>0.06</td>\n      <td>-1605.472369</td>\n      <td>0.06</td>\n      <td>-836.457229</td>\n      <td>0.16</td>\n      <td>-694.014513</td>\n      <td>0.02</td>\n      <td>-3.613189</td>\n      <td>0.0</td>\n      <td>-0.0</td>\n    </tr>\n    <tr>\n      <th>946</th>\n      <td>0.08</td>\n      <td>1.086044</td>\n      <td>0.02</td>\n      <td>-0.244311</td>\n      <td>0.06</td>\n      <td>-13.817313</td>\n      <td>0.06</td>\n      <td>0.470201</td>\n      <td>0.02</td>\n      <td>0.038237</td>\n      <td>...</td>\n      <td>0.06</td>\n      <td>-243.732765</td>\n      <td>0.06</td>\n      <td>-216.294180</td>\n      <td>0.20</td>\n      <td>-487.080682</td>\n      <td>0.00</td>\n      <td>-0.000000</td>\n      <td>0.0</td>\n      <td>-0.0</td>\n    </tr>\n  </tbody>\n</table>\n<p>947 rows × 42 columns</p>\n</div>"
     },
     "execution_count": 32,
     "metadata": {},
     "output_type": "execute_result"
    }
   ],
   "source": [
    "# Frequency domain\n",
    "from scipy.fftpack import fft\n",
    "from scipy.signal import welch\n",
    "import numpy as np\n",
    "\n",
    "def frequency_features(df, window_size, step_size, fs=1.0):\n",
    "    \"\"\"\n",
    "    Extract frequency domain features for each sliding window.\n",
    "\n",
    "    Parameters:\n",
    "    - df: pandas DataFrame with the data\n",
    "    - window_size: size of each window\n",
    "    - step_size: step size between windows\n",
    "    - fs: sampling frequency (default 1.0)\n",
    "\n",
    "    Returns:\n",
    "    - feature_df: DataFrame with frequency features for each window\n",
    "    \"\"\"\n",
    "    feature_list = []\n",
    "\n",
    "    for start in range(0, len(df) - window_size + 1, step_size):\n",
    "        window_df = df.iloc[start:start + window_size]\n",
    "        feature_dict = {}\n",
    "\n",
    "        for col in df.columns:\n",
    "            if col not in ['time', 'seconds_elapsed', 'seconds_elapsed_gyro', 'seconds_elapsed_acc', 'seconds_elapsed_hr']:\n",
    "                col_data = window_df[col].dropna()\n",
    "                if len(col_data) > 0:\n",
    "                    freqs, psd = welch(col_data, fs=fs, nperseg=min(window_size, len(col_data)))\n",
    "                    dominant_freq = freqs[np.argmax(psd)]\n",
    "                    spectral_entropy = -np.sum(psd * np.log2(psd + 1e-10)) / np.log2(len(psd))\n",
    "                    feature_dict[col + '_dominant_freq'] = dominant_freq\n",
    "                    feature_dict[col + '_spectral_entropy'] = spectral_entropy\n",
    "\n",
    "        feature_list.append(feature_dict)\n",
    "\n",
    "    feature_df = pd.DataFrame(feature_list)\n",
    "    return feature_df\n",
    "\n",
    "\n",
    "frequency_features_df = frequency_features(data, 50,100)\n",
    "frequency_features_df"
   ],
   "metadata": {
    "collapsed": false,
    "ExecuteTime": {
     "end_time": "2024-06-14T11:08:32.708852Z",
     "start_time": "2024-06-14T11:08:21.187700Z"
    }
   },
   "id": "2c12ca2a7f030184",
   "execution_count": 32
  },
  {
   "cell_type": "code",
   "outputs": [
    {
     "data": {
      "text/plain": "Empty DataFrame\nColumns: [0, 1, 2, 3, 4, 5, 6, 7, 8, 9, 10, 11, 12, 13, 14, 15, 16, 17, 18, 19, 20, 21, 22, 23, 24, 25, 26, 27, 28, 29, 30, 31, 32, 33, 34, 35, 36, 37, 38, 39, 40, 41, 42, 43, 44, 45, 46, 47, 48, 49, 50, 51, 52, 53, 54, 55, 56, 57, 58, 59, 60, 61, 62, 63, 64, 65, 66, 67, 68, 69, 70, 71, 72, 73, 74, 75, 76, 77, 78, 79, 80, 81, 82, 83, 84, 85, 86, 87, 88, 89, 90, 91, 92, 93, 94, 95, 96, 97, 98, 99, ...]\nIndex: []\n\n[0 rows x 127 columns]",
      "text/html": "<div>\n<style scoped>\n    .dataframe tbody tr th:only-of-type {\n        vertical-align: middle;\n    }\n\n    .dataframe tbody tr th {\n        vertical-align: top;\n    }\n\n    .dataframe thead th {\n        text-align: right;\n    }\n</style>\n<table border=\"1\" class=\"dataframe\">\n  <thead>\n    <tr style=\"text-align: right;\">\n      <th></th>\n      <th>0</th>\n      <th>1</th>\n      <th>2</th>\n      <th>3</th>\n      <th>4</th>\n      <th>5</th>\n      <th>6</th>\n      <th>7</th>\n      <th>8</th>\n      <th>9</th>\n      <th>...</th>\n      <th>117</th>\n      <th>118</th>\n      <th>119</th>\n      <th>120</th>\n      <th>121</th>\n      <th>122</th>\n      <th>123</th>\n      <th>124</th>\n      <th>125</th>\n      <th>126</th>\n    </tr>\n  </thead>\n  <tbody>\n  </tbody>\n</table>\n<p>0 rows × 127 columns</p>\n</div>"
     },
     "execution_count": 17,
     "metadata": {},
     "output_type": "execute_result"
    }
   ],
   "source": [
    "data = pd.concat([data, window5, window20, window100,frequency_features_df], axis=1, ignore_index=True)\n",
    "data=data.dropna()\n",
    "data"
   ],
   "metadata": {
    "collapsed": false,
    "ExecuteTime": {
     "end_time": "2024-06-14T10:38:51.140092Z",
     "start_time": "2024-06-14T10:38:50.919381Z"
    }
   },
   "id": "71120279cc92ae3b",
   "execution_count": 17
  },
  {
   "cell_type": "code",
   "outputs": [
    {
     "data": {
      "text/plain": "     rotationRateX_dominant_freq_0_0  rotationRateX_dominant_freq_0_1  \\\n0                                NaN                              NaN   \n1                                NaN                              NaN   \n2                                NaN                              NaN   \n3                                NaN                              NaN   \n4                                NaN                              NaN   \n..                               ...                              ...   \n942                              NaN                              NaN   \n943                              NaN                              NaN   \n944                              NaN                              NaN   \n945                              NaN                              NaN   \n946                              NaN                              NaN   \n\n     rotationRateX_dominant_freq_0_2  rotationRateX_dominant_freq_0_3  \\\n0                                NaN                              NaN   \n1                                NaN                              NaN   \n2                                NaN                              NaN   \n3                                NaN                              NaN   \n4                                NaN                              NaN   \n..                               ...                              ...   \n942                              NaN                              NaN   \n943                              NaN                              NaN   \n944                              NaN                              NaN   \n945                              NaN                              NaN   \n946                              NaN                              NaN   \n\n     rotationRateX_dominant_freq_0_4  rotationRateX_dominant_freq_0_5  \\\n0                                NaN                              NaN   \n1                                NaN                              NaN   \n2                                NaN                              NaN   \n3                                NaN                              NaN   \n4                                NaN                              NaN   \n..                               ...                              ...   \n942                              NaN                              NaN   \n943                              NaN                              NaN   \n944                              NaN                              NaN   \n945                              NaN                              NaN   \n946                              NaN                              NaN   \n\n     rotationRateX_dominant_freq_0_6  rotationRateX_dominant_freq_0_7  \\\n0                                NaN                              NaN   \n1                                NaN                              NaN   \n2                                NaN                              NaN   \n3                                NaN                              NaN   \n4                                NaN                              NaN   \n..                               ...                              ...   \n942                              NaN                              NaN   \n943                              NaN                              NaN   \n944                              NaN                              NaN   \n945                              NaN                              NaN   \n946                              NaN                              NaN   \n\n     rotationRateX_dominant_freq_0_8  rotationRateX_dominant_freq_0_9  ...  \\\n0                                NaN                              NaN  ...   \n1                                NaN                              NaN  ...   \n2                                NaN                              NaN  ...   \n3                                NaN                              NaN  ...   \n4                                NaN                              NaN  ...   \n..                               ...                              ...  ...   \n942                              NaN                              NaN  ...   \n943                              NaN                              NaN  ...   \n944                              NaN                              NaN  ...   \n945                              NaN                              NaN  ...   \n946                              NaN                              NaN  ...   \n\n     sport_spectral_entropy_94600_94640  sport_spectral_entropy_94600_94641  \\\n0                                   NaN                                 NaN   \n1                                   NaN                                 NaN   \n2                                   NaN                                 NaN   \n3                                   NaN                                 NaN   \n4                                   NaN                                 NaN   \n..                                  ...                                 ...   \n942                                 NaN                                 NaN   \n943                                 NaN                                 NaN   \n944                                 NaN                                 NaN   \n945                                 NaN                                 NaN   \n946                                 NaN                                 NaN   \n\n     sport_spectral_entropy_94600_94642  sport_spectral_entropy_94600_94643  \\\n0                                   NaN                                 NaN   \n1                                   NaN                                 NaN   \n2                                   NaN                                 NaN   \n3                                   NaN                                 NaN   \n4                                   NaN                                 NaN   \n..                                  ...                                 ...   \n942                                 NaN                                 NaN   \n943                                 NaN                                 NaN   \n944                                 NaN                                 NaN   \n945                                 NaN                                 NaN   \n946                                 NaN                                 NaN   \n\n     sport_spectral_entropy_94600_94644  sport_spectral_entropy_94600_94645  \\\n0                                   NaN                                 NaN   \n1                                   NaN                                 NaN   \n2                                   NaN                                 NaN   \n3                                   NaN                                 NaN   \n4                                   NaN                                 NaN   \n..                                  ...                                 ...   \n942                                 NaN                                 NaN   \n943                                 NaN                                 NaN   \n944                                 NaN                                 NaN   \n945                                 NaN                                 NaN   \n946                                 NaN                                 NaN   \n\n     sport_spectral_entropy_94600_94646  sport_spectral_entropy_94600_94647  \\\n0                                   NaN                                 NaN   \n1                                   NaN                                 NaN   \n2                                   NaN                                 NaN   \n3                                   NaN                                 NaN   \n4                                   NaN                                 NaN   \n..                                  ...                                 ...   \n942                                 NaN                                 NaN   \n943                                 NaN                                 NaN   \n944                                 NaN                                 NaN   \n945                                 NaN                                 NaN   \n946                                 NaN                                 NaN   \n\n     sport_spectral_entropy_94600_94648  sport_spectral_entropy_94600_94649  \n0                                   NaN                                 NaN  \n1                                   NaN                                 NaN  \n2                                   NaN                                 NaN  \n3                                   NaN                                 NaN  \n4                                   NaN                                 NaN  \n..                                  ...                                 ...  \n942                                 NaN                                 NaN  \n943                                 NaN                                 NaN  \n944                                 NaN                                 NaN  \n945                                 NaN                                 NaN  \n946                                 NaN                                 NaN  \n\n[947 rows x 1988700 columns]",
      "text/html": "<div>\n<style scoped>\n    .dataframe tbody tr th:only-of-type {\n        vertical-align: middle;\n    }\n\n    .dataframe tbody tr th {\n        vertical-align: top;\n    }\n\n    .dataframe thead th {\n        text-align: right;\n    }\n</style>\n<table border=\"1\" class=\"dataframe\">\n  <thead>\n    <tr style=\"text-align: right;\">\n      <th></th>\n      <th>rotationRateX_dominant_freq_0_0</th>\n      <th>rotationRateX_dominant_freq_0_1</th>\n      <th>rotationRateX_dominant_freq_0_2</th>\n      <th>rotationRateX_dominant_freq_0_3</th>\n      <th>rotationRateX_dominant_freq_0_4</th>\n      <th>rotationRateX_dominant_freq_0_5</th>\n      <th>rotationRateX_dominant_freq_0_6</th>\n      <th>rotationRateX_dominant_freq_0_7</th>\n      <th>rotationRateX_dominant_freq_0_8</th>\n      <th>rotationRateX_dominant_freq_0_9</th>\n      <th>...</th>\n      <th>sport_spectral_entropy_94600_94640</th>\n      <th>sport_spectral_entropy_94600_94641</th>\n      <th>sport_spectral_entropy_94600_94642</th>\n      <th>sport_spectral_entropy_94600_94643</th>\n      <th>sport_spectral_entropy_94600_94644</th>\n      <th>sport_spectral_entropy_94600_94645</th>\n      <th>sport_spectral_entropy_94600_94646</th>\n      <th>sport_spectral_entropy_94600_94647</th>\n      <th>sport_spectral_entropy_94600_94648</th>\n      <th>sport_spectral_entropy_94600_94649</th>\n    </tr>\n  </thead>\n  <tbody>\n    <tr>\n      <th>0</th>\n      <td>NaN</td>\n      <td>NaN</td>\n      <td>NaN</td>\n      <td>NaN</td>\n      <td>NaN</td>\n      <td>NaN</td>\n      <td>NaN</td>\n      <td>NaN</td>\n      <td>NaN</td>\n      <td>NaN</td>\n      <td>...</td>\n      <td>NaN</td>\n      <td>NaN</td>\n      <td>NaN</td>\n      <td>NaN</td>\n      <td>NaN</td>\n      <td>NaN</td>\n      <td>NaN</td>\n      <td>NaN</td>\n      <td>NaN</td>\n      <td>NaN</td>\n    </tr>\n    <tr>\n      <th>1</th>\n      <td>NaN</td>\n      <td>NaN</td>\n      <td>NaN</td>\n      <td>NaN</td>\n      <td>NaN</td>\n      <td>NaN</td>\n      <td>NaN</td>\n      <td>NaN</td>\n      <td>NaN</td>\n      <td>NaN</td>\n      <td>...</td>\n      <td>NaN</td>\n      <td>NaN</td>\n      <td>NaN</td>\n      <td>NaN</td>\n      <td>NaN</td>\n      <td>NaN</td>\n      <td>NaN</td>\n      <td>NaN</td>\n      <td>NaN</td>\n      <td>NaN</td>\n    </tr>\n    <tr>\n      <th>2</th>\n      <td>NaN</td>\n      <td>NaN</td>\n      <td>NaN</td>\n      <td>NaN</td>\n      <td>NaN</td>\n      <td>NaN</td>\n      <td>NaN</td>\n      <td>NaN</td>\n      <td>NaN</td>\n      <td>NaN</td>\n      <td>...</td>\n      <td>NaN</td>\n      <td>NaN</td>\n      <td>NaN</td>\n      <td>NaN</td>\n      <td>NaN</td>\n      <td>NaN</td>\n      <td>NaN</td>\n      <td>NaN</td>\n      <td>NaN</td>\n      <td>NaN</td>\n    </tr>\n    <tr>\n      <th>3</th>\n      <td>NaN</td>\n      <td>NaN</td>\n      <td>NaN</td>\n      <td>NaN</td>\n      <td>NaN</td>\n      <td>NaN</td>\n      <td>NaN</td>\n      <td>NaN</td>\n      <td>NaN</td>\n      <td>NaN</td>\n      <td>...</td>\n      <td>NaN</td>\n      <td>NaN</td>\n      <td>NaN</td>\n      <td>NaN</td>\n      <td>NaN</td>\n      <td>NaN</td>\n      <td>NaN</td>\n      <td>NaN</td>\n      <td>NaN</td>\n      <td>NaN</td>\n    </tr>\n    <tr>\n      <th>4</th>\n      <td>NaN</td>\n      <td>NaN</td>\n      <td>NaN</td>\n      <td>NaN</td>\n      <td>NaN</td>\n      <td>NaN</td>\n      <td>NaN</td>\n      <td>NaN</td>\n      <td>NaN</td>\n      <td>NaN</td>\n      <td>...</td>\n      <td>NaN</td>\n      <td>NaN</td>\n      <td>NaN</td>\n      <td>NaN</td>\n      <td>NaN</td>\n      <td>NaN</td>\n      <td>NaN</td>\n      <td>NaN</td>\n      <td>NaN</td>\n      <td>NaN</td>\n    </tr>\n    <tr>\n      <th>...</th>\n      <td>...</td>\n      <td>...</td>\n      <td>...</td>\n      <td>...</td>\n      <td>...</td>\n      <td>...</td>\n      <td>...</td>\n      <td>...</td>\n      <td>...</td>\n      <td>...</td>\n      <td>...</td>\n      <td>...</td>\n      <td>...</td>\n      <td>...</td>\n      <td>...</td>\n      <td>...</td>\n      <td>...</td>\n      <td>...</td>\n      <td>...</td>\n      <td>...</td>\n      <td>...</td>\n    </tr>\n    <tr>\n      <th>942</th>\n      <td>NaN</td>\n      <td>NaN</td>\n      <td>NaN</td>\n      <td>NaN</td>\n      <td>NaN</td>\n      <td>NaN</td>\n      <td>NaN</td>\n      <td>NaN</td>\n      <td>NaN</td>\n      <td>NaN</td>\n      <td>...</td>\n      <td>NaN</td>\n      <td>NaN</td>\n      <td>NaN</td>\n      <td>NaN</td>\n      <td>NaN</td>\n      <td>NaN</td>\n      <td>NaN</td>\n      <td>NaN</td>\n      <td>NaN</td>\n      <td>NaN</td>\n    </tr>\n    <tr>\n      <th>943</th>\n      <td>NaN</td>\n      <td>NaN</td>\n      <td>NaN</td>\n      <td>NaN</td>\n      <td>NaN</td>\n      <td>NaN</td>\n      <td>NaN</td>\n      <td>NaN</td>\n      <td>NaN</td>\n      <td>NaN</td>\n      <td>...</td>\n      <td>NaN</td>\n      <td>NaN</td>\n      <td>NaN</td>\n      <td>NaN</td>\n      <td>NaN</td>\n      <td>NaN</td>\n      <td>NaN</td>\n      <td>NaN</td>\n      <td>NaN</td>\n      <td>NaN</td>\n    </tr>\n    <tr>\n      <th>944</th>\n      <td>NaN</td>\n      <td>NaN</td>\n      <td>NaN</td>\n      <td>NaN</td>\n      <td>NaN</td>\n      <td>NaN</td>\n      <td>NaN</td>\n      <td>NaN</td>\n      <td>NaN</td>\n      <td>NaN</td>\n      <td>...</td>\n      <td>NaN</td>\n      <td>NaN</td>\n      <td>NaN</td>\n      <td>NaN</td>\n      <td>NaN</td>\n      <td>NaN</td>\n      <td>NaN</td>\n      <td>NaN</td>\n      <td>NaN</td>\n      <td>NaN</td>\n    </tr>\n    <tr>\n      <th>945</th>\n      <td>NaN</td>\n      <td>NaN</td>\n      <td>NaN</td>\n      <td>NaN</td>\n      <td>NaN</td>\n      <td>NaN</td>\n      <td>NaN</td>\n      <td>NaN</td>\n      <td>NaN</td>\n      <td>NaN</td>\n      <td>...</td>\n      <td>NaN</td>\n      <td>NaN</td>\n      <td>NaN</td>\n      <td>NaN</td>\n      <td>NaN</td>\n      <td>NaN</td>\n      <td>NaN</td>\n      <td>NaN</td>\n      <td>NaN</td>\n      <td>NaN</td>\n    </tr>\n    <tr>\n      <th>946</th>\n      <td>NaN</td>\n      <td>NaN</td>\n      <td>NaN</td>\n      <td>NaN</td>\n      <td>NaN</td>\n      <td>NaN</td>\n      <td>NaN</td>\n      <td>NaN</td>\n      <td>NaN</td>\n      <td>NaN</td>\n      <td>...</td>\n      <td>NaN</td>\n      <td>NaN</td>\n      <td>NaN</td>\n      <td>NaN</td>\n      <td>NaN</td>\n      <td>NaN</td>\n      <td>NaN</td>\n      <td>NaN</td>\n      <td>NaN</td>\n      <td>NaN</td>\n    </tr>\n  </tbody>\n</table>\n<p>947 rows × 1988700 columns</p>\n</div>"
     },
     "execution_count": 35,
     "metadata": {},
     "output_type": "execute_result"
    }
   ],
   "source": [
    "import pandas as pd\n",
    "import numpy as np\n",
    "from scipy.signal import welch\n",
    "\n",
    "def interpolate_features(feature_df, original_length, window_size, step_size):\n",
    "    \"\"\"\n",
    "    Interpolate features to match the length of the original DataFrame.\n",
    "\n",
    "    Parameters:\n",
    "    - feature_df: DataFrame with frequency features for each rolling window\n",
    "    - original_length: length of the original DataFrame\n",
    "    - window_size: size of each window\n",
    "    - step_size: step size for rolling computation\n",
    "\n",
    "    Returns:\n",
    "    - interpolated_df: DataFrame with interpolated features\n",
    "    \"\"\"\n",
    "    interpolated_features = []\n",
    "\n",
    "    for i in range(0, original_length, step_size):\n",
    "        start_idx = i\n",
    "        end_idx = min(i + window_size, original_length)\n",
    "        window_features = feature_df.iloc[i // step_size].copy()\n",
    "\n",
    "        # Interpolate features to match the length of the original DataFrame\n",
    "        window_features.index = [f\"{col}_{start_idx}\" for col in window_features.index]\n",
    "        window_features = window_features.reindex([f\"{col}_{j}\" for col in window_features.index for j in range(start_idx, end_idx)])\n",
    "        window_features.interpolate(method='linear', inplace=True)\n",
    "        interpolated_features.append(window_features)\n",
    "\n",
    "    interpolated_df = pd.DataFrame(interpolated_features)\n",
    "    return interpolated_df\n",
    "\n",
    "def rolling_frequency_features(df, window_size, step_size, fs=1.0):\n",
    "    \"\"\"\n",
    "    Extract frequency domain features on a rolling basis.\n",
    "\n",
    "    Parameters:\n",
    "    - df: pandas DataFrame with the data\n",
    "    - window_size: size of each window\n",
    "    - step_size: step size for rolling computation\n",
    "    - fs: sampling frequency (default 1.0)\n",
    "\n",
    "    Returns:\n",
    "    - feature_df: DataFrame with frequency features for each rolling window\n",
    "    \"\"\"\n",
    "    feature_list = []\n",
    "\n",
    "    for end in range(window_size, len(df) + 1, step_size):\n",
    "        window_df = df.iloc[max(0, end - window_size):end]\n",
    "        feature_dict = {}\n",
    "\n",
    "        for col in df.columns:\n",
    "            if col not in ['time', 'seconds_elapsed', 'seconds_elapsed_gyro', 'seconds_elapsed_acc', 'seconds_elapsed_hr']:\n",
    "                col_data = window_df[col].dropna()\n",
    "                if len(col_data) > 0:\n",
    "                    freqs, psd = welch(col_data, fs=fs, nperseg=min(window_size, len(col_data)))\n",
    "                    dominant_freq = freqs[np.argmax(psd)]\n",
    "                    spectral_entropy = -np.sum(psd * np.log2(psd + 1e-10)) / np.log2(len(psd))\n",
    "                    feature_dict[col + '_dominant_freq'] = dominant_freq\n",
    "                    feature_dict[col + '_spectral_entropy'] = spectral_entropy\n",
    "\n",
    "        feature_list.append(feature_dict)\n",
    "\n",
    "    feature_df = pd.DataFrame(feature_list)\n",
    "    return feature_df\n",
    "\n",
    "# Example usage\n",
    "# Assuming df is your DataFrame and you have handled NaNs\n",
    "window_size = 50  # Example window size\n",
    "step_size = 100    # Example step size for rolling computation\n",
    "data = data.dropna()  # Drop rows with NaN values\n",
    "\n",
    "# Extract rolling frequency features\n",
    "rolling_frequency_features_df = rolling_frequency_features(data, window_size, step_size)\n",
    "\n",
    "# Interpolate features to match the length of the original DataFrame\n",
    "interpolated_features_df = interpolate_features(rolling_frequency_features_df, len(data), window_size, step_size)\n",
    "\n",
    "# Verify the resulting DataFrame\n",
    "interpolated_features_df\n",
    "\n",
    "\n"
   ],
   "metadata": {
    "collapsed": false,
    "ExecuteTime": {
     "end_time": "2024-06-14T11:49:17.732959Z",
     "start_time": "2024-06-14T11:44:14.156343Z"
    }
   },
   "id": "67c0c1274932b668",
   "execution_count": 35
  },
  {
   "cell_type": "code",
   "outputs": [],
   "source": [
    "interpolated_features_df"
   ],
   "metadata": {
    "collapsed": false,
    "is_executing": true
   },
   "id": "954a4b2b1c57eb97"
  },
  {
   "cell_type": "code",
   "outputs": [],
   "source": [],
   "metadata": {
    "collapsed": false
   },
   "id": "6bd7dede42b52c44"
  }
 ],
 "metadata": {
  "kernelspec": {
   "display_name": "Python 3",
   "language": "python",
   "name": "python3"
  },
  "language_info": {
   "codemirror_mode": {
    "name": "ipython",
    "version": 2
   },
   "file_extension": ".py",
   "mimetype": "text/x-python",
   "name": "python",
   "nbconvert_exporter": "python",
   "pygments_lexer": "ipython2",
   "version": "2.7.6"
  }
 },
 "nbformat": 4,
 "nbformat_minor": 5
}
