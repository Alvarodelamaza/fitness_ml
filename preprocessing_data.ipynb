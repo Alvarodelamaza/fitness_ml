{
 "cells": [
  {
   "cell_type": "code",
   "execution_count": 17,
   "id": "initial_id",
   "metadata": {
    "collapsed": true,
    "ExecuteTime": {
     "end_time": "2024-06-13T21:34:39.016653Z",
     "start_time": "2024-06-13T21:34:37.418813Z"
    }
   },
   "outputs": [],
   "source": [
    "import pandas as pd\n",
    "import numpy as np\n",
    "\n",
    "# Load the data (have to change the name for each sport\n",
    "acc_path = 'strength/Accelerometer.csv'\n",
    "grav_path = 'strength/Gravity.csv'\n",
    "gyro_path = 'strength/Gyroscope.csv'\n",
    "hr_path = 'strength/HeartRate.csv'\n",
    "wrist_path = 'strength/WristMotion.csv'\n",
    "acc_phone_data = pd.read_csv(acc_path)\n",
    "grav_data = pd.read_csv(grav_path)\n",
    "gyro_phone_data = pd.read_csv(gyro_path)\n",
    "wrist_data = pd.read_csv(wrist_path)\n",
    "hr_data = pd.read_csv(hr_path)\n",
    "\n"
   ]
  },
  {
   "cell_type": "markdown",
   "source": [
    "Data Merging"
   ],
   "metadata": {
    "collapsed": false
   },
   "id": "7bcc3b53a4227c1c"
  },
  {
   "cell_type": "code",
   "outputs": [
    {
     "data": {
      "text/plain": "                       time  seconds_elapsed  rotationRateX  rotationRateY  \\\n0       1718311090903299300         2.301299       0.040385       0.049638   \n1       1718311090913261000         2.311261       0.032671       0.034696   \n2       1718311090923224300         2.321224       0.008491       0.015564   \n3       1718311090933186300         2.331186      -0.014403       0.049653   \n4       1718311090943148300         2.341148      -0.105676       0.170725   \n...                     ...              ...            ...            ...   \n121987  1718312306197949000      1217.595949      -0.230445      -0.064104   \n121988  1718312306207912000      1217.605912      -0.297640      -0.068602   \n121989  1718312306217874000      1217.615874      -0.339981      -0.037667   \n121990  1718312306227837000      1217.625837      -0.398897      -0.007283   \n121991  1718312306237799000      1217.635799      -0.485303       0.043107   \n\n        rotationRateZ  gravityX  gravityY  gravityZ  accelerationX  \\\n0           -0.009559  0.405645 -0.139336 -0.903348       0.037027   \n1            0.013400  0.406020 -0.139673 -0.903127       0.035783   \n2            0.023396  0.406241 -0.139929 -0.902989       0.028131   \n3            0.040736  0.406436 -0.140022 -0.902886       0.032514   \n4            0.173346  0.408485 -0.139920 -0.901977       0.027458   \n...               ...       ...       ...       ...            ...   \n121987       0.013868 -0.095385  0.885194 -0.455338      -0.004240   \n121988      -0.004050 -0.095701  0.886203 -0.453305      -0.002321   \n121989      -0.007861 -0.096051  0.887323 -0.451034       0.005887   \n121990      -0.009314 -0.096221  0.888652 -0.448375       0.014113   \n121991      -0.017672 -0.096259  0.890353 -0.444979       0.008200   \n\n        accelerationY  accelerationZ  quaternionW  quaternionX  quaternionY  \\\n0            0.009804      -0.012622     0.975538     0.071415     0.207909   \n1            0.005060      -0.005183     0.975481     0.071595     0.208112   \n2           -0.003519       0.001438     0.975446     0.071712     0.208238   \n3           -0.011345       0.002999     0.975420     0.071726     0.208356   \n4           -0.017612       0.012161     0.975186     0.071542     0.209507   \n...               ...            ...          ...          ...          ...   \n121987      -0.011827      -0.018081     0.838457    -0.499691    -0.150467   \n121988      -0.017490      -0.041614     0.837852    -0.500570    -0.150923   \n121989      -0.024347      -0.053406     0.837197    -0.501569    -0.151367   \n121990      -0.036937      -0.057210     0.836443    -0.502791    -0.151704   \n121991      -0.054049      -0.050306     0.835503    -0.504401    -0.151954   \n\n         quaternionZ  \n0      -4.884339e-18  \n1      -1.498378e-05  \n2       6.458120e-05  \n3       2.293681e-04  \n4       9.192861e-04  \n...              ...  \n121987  1.570325e-01  \n121988  1.570218e-01  \n121989  1.569042e-01  \n121990  1.566884e-01  \n121991  1.562823e-01  \n\n[121992 rows x 15 columns]",
      "text/html": "<div>\n<style scoped>\n    .dataframe tbody tr th:only-of-type {\n        vertical-align: middle;\n    }\n\n    .dataframe tbody tr th {\n        vertical-align: top;\n    }\n\n    .dataframe thead th {\n        text-align: right;\n    }\n</style>\n<table border=\"1\" class=\"dataframe\">\n  <thead>\n    <tr style=\"text-align: right;\">\n      <th></th>\n      <th>time</th>\n      <th>seconds_elapsed</th>\n      <th>rotationRateX</th>\n      <th>rotationRateY</th>\n      <th>rotationRateZ</th>\n      <th>gravityX</th>\n      <th>gravityY</th>\n      <th>gravityZ</th>\n      <th>accelerationX</th>\n      <th>accelerationY</th>\n      <th>accelerationZ</th>\n      <th>quaternionW</th>\n      <th>quaternionX</th>\n      <th>quaternionY</th>\n      <th>quaternionZ</th>\n    </tr>\n  </thead>\n  <tbody>\n    <tr>\n      <th>0</th>\n      <td>1718311090903299300</td>\n      <td>2.301299</td>\n      <td>0.040385</td>\n      <td>0.049638</td>\n      <td>-0.009559</td>\n      <td>0.405645</td>\n      <td>-0.139336</td>\n      <td>-0.903348</td>\n      <td>0.037027</td>\n      <td>0.009804</td>\n      <td>-0.012622</td>\n      <td>0.975538</td>\n      <td>0.071415</td>\n      <td>0.207909</td>\n      <td>-4.884339e-18</td>\n    </tr>\n    <tr>\n      <th>1</th>\n      <td>1718311090913261000</td>\n      <td>2.311261</td>\n      <td>0.032671</td>\n      <td>0.034696</td>\n      <td>0.013400</td>\n      <td>0.406020</td>\n      <td>-0.139673</td>\n      <td>-0.903127</td>\n      <td>0.035783</td>\n      <td>0.005060</td>\n      <td>-0.005183</td>\n      <td>0.975481</td>\n      <td>0.071595</td>\n      <td>0.208112</td>\n      <td>-1.498378e-05</td>\n    </tr>\n    <tr>\n      <th>2</th>\n      <td>1718311090923224300</td>\n      <td>2.321224</td>\n      <td>0.008491</td>\n      <td>0.015564</td>\n      <td>0.023396</td>\n      <td>0.406241</td>\n      <td>-0.139929</td>\n      <td>-0.902989</td>\n      <td>0.028131</td>\n      <td>-0.003519</td>\n      <td>0.001438</td>\n      <td>0.975446</td>\n      <td>0.071712</td>\n      <td>0.208238</td>\n      <td>6.458120e-05</td>\n    </tr>\n    <tr>\n      <th>3</th>\n      <td>1718311090933186300</td>\n      <td>2.331186</td>\n      <td>-0.014403</td>\n      <td>0.049653</td>\n      <td>0.040736</td>\n      <td>0.406436</td>\n      <td>-0.140022</td>\n      <td>-0.902886</td>\n      <td>0.032514</td>\n      <td>-0.011345</td>\n      <td>0.002999</td>\n      <td>0.975420</td>\n      <td>0.071726</td>\n      <td>0.208356</td>\n      <td>2.293681e-04</td>\n    </tr>\n    <tr>\n      <th>4</th>\n      <td>1718311090943148300</td>\n      <td>2.341148</td>\n      <td>-0.105676</td>\n      <td>0.170725</td>\n      <td>0.173346</td>\n      <td>0.408485</td>\n      <td>-0.139920</td>\n      <td>-0.901977</td>\n      <td>0.027458</td>\n      <td>-0.017612</td>\n      <td>0.012161</td>\n      <td>0.975186</td>\n      <td>0.071542</td>\n      <td>0.209507</td>\n      <td>9.192861e-04</td>\n    </tr>\n    <tr>\n      <th>...</th>\n      <td>...</td>\n      <td>...</td>\n      <td>...</td>\n      <td>...</td>\n      <td>...</td>\n      <td>...</td>\n      <td>...</td>\n      <td>...</td>\n      <td>...</td>\n      <td>...</td>\n      <td>...</td>\n      <td>...</td>\n      <td>...</td>\n      <td>...</td>\n      <td>...</td>\n    </tr>\n    <tr>\n      <th>121987</th>\n      <td>1718312306197949000</td>\n      <td>1217.595949</td>\n      <td>-0.230445</td>\n      <td>-0.064104</td>\n      <td>0.013868</td>\n      <td>-0.095385</td>\n      <td>0.885194</td>\n      <td>-0.455338</td>\n      <td>-0.004240</td>\n      <td>-0.011827</td>\n      <td>-0.018081</td>\n      <td>0.838457</td>\n      <td>-0.499691</td>\n      <td>-0.150467</td>\n      <td>1.570325e-01</td>\n    </tr>\n    <tr>\n      <th>121988</th>\n      <td>1718312306207912000</td>\n      <td>1217.605912</td>\n      <td>-0.297640</td>\n      <td>-0.068602</td>\n      <td>-0.004050</td>\n      <td>-0.095701</td>\n      <td>0.886203</td>\n      <td>-0.453305</td>\n      <td>-0.002321</td>\n      <td>-0.017490</td>\n      <td>-0.041614</td>\n      <td>0.837852</td>\n      <td>-0.500570</td>\n      <td>-0.150923</td>\n      <td>1.570218e-01</td>\n    </tr>\n    <tr>\n      <th>121989</th>\n      <td>1718312306217874000</td>\n      <td>1217.615874</td>\n      <td>-0.339981</td>\n      <td>-0.037667</td>\n      <td>-0.007861</td>\n      <td>-0.096051</td>\n      <td>0.887323</td>\n      <td>-0.451034</td>\n      <td>0.005887</td>\n      <td>-0.024347</td>\n      <td>-0.053406</td>\n      <td>0.837197</td>\n      <td>-0.501569</td>\n      <td>-0.151367</td>\n      <td>1.569042e-01</td>\n    </tr>\n    <tr>\n      <th>121990</th>\n      <td>1718312306227837000</td>\n      <td>1217.625837</td>\n      <td>-0.398897</td>\n      <td>-0.007283</td>\n      <td>-0.009314</td>\n      <td>-0.096221</td>\n      <td>0.888652</td>\n      <td>-0.448375</td>\n      <td>0.014113</td>\n      <td>-0.036937</td>\n      <td>-0.057210</td>\n      <td>0.836443</td>\n      <td>-0.502791</td>\n      <td>-0.151704</td>\n      <td>1.566884e-01</td>\n    </tr>\n    <tr>\n      <th>121991</th>\n      <td>1718312306237799000</td>\n      <td>1217.635799</td>\n      <td>-0.485303</td>\n      <td>0.043107</td>\n      <td>-0.017672</td>\n      <td>-0.096259</td>\n      <td>0.890353</td>\n      <td>-0.444979</td>\n      <td>0.008200</td>\n      <td>-0.054049</td>\n      <td>-0.050306</td>\n      <td>0.835503</td>\n      <td>-0.504401</td>\n      <td>-0.151954</td>\n      <td>1.562823e-01</td>\n    </tr>\n  </tbody>\n</table>\n<p>121992 rows × 15 columns</p>\n</div>"
     },
     "execution_count": 10,
     "metadata": {},
     "output_type": "execute_result"
    }
   ],
   "source": [
    "wrist_data"
   ],
   "metadata": {
    "collapsed": false,
    "ExecuteTime": {
     "end_time": "2024-06-13T21:31:37.912303Z",
     "start_time": "2024-06-13T21:31:37.878763Z"
    }
   },
   "id": "ec2d9898c21712bc",
   "execution_count": 10
  },
  {
   "cell_type": "code",
   "outputs": [
    {
     "data": {
      "text/plain": "                      time  seconds_elapsed         z         y         x\n0      1718292420959481900         0.019482  0.033051  0.016458 -0.002570\n1      1718292421009252900         0.069253 -0.026291  0.039965 -0.031247\n2      1718292421059025000         0.119025  0.345929 -0.000943 -0.015137\n3      1718292421108796000         0.168796  0.051314 -0.007389 -0.034977\n4      1718292421158567200         0.218567 -0.125445  0.192159  0.062626\n...                    ...              ...       ...       ...       ...\n36141  1718294219701012700      1798.761013  0.030543  0.022076  0.127806\n36142  1718294219750783700      1798.810784 -0.244426  0.083532 -0.134145\n36143  1718294219800554800      1798.860555  0.281002  0.038497 -0.162475\n36144  1718294219850326800      1798.910327  0.436477 -0.212799 -0.276245\n36145  1718294219900097300      1798.960097 -0.045699  0.277418  0.030452\n\n[36146 rows x 5 columns]",
      "text/html": "<div>\n<style scoped>\n    .dataframe tbody tr th:only-of-type {\n        vertical-align: middle;\n    }\n\n    .dataframe tbody tr th {\n        vertical-align: top;\n    }\n\n    .dataframe thead th {\n        text-align: right;\n    }\n</style>\n<table border=\"1\" class=\"dataframe\">\n  <thead>\n    <tr style=\"text-align: right;\">\n      <th></th>\n      <th>time</th>\n      <th>seconds_elapsed</th>\n      <th>z</th>\n      <th>y</th>\n      <th>x</th>\n    </tr>\n  </thead>\n  <tbody>\n    <tr>\n      <th>0</th>\n      <td>1718292420959481900</td>\n      <td>0.019482</td>\n      <td>0.033051</td>\n      <td>0.016458</td>\n      <td>-0.002570</td>\n    </tr>\n    <tr>\n      <th>1</th>\n      <td>1718292421009252900</td>\n      <td>0.069253</td>\n      <td>-0.026291</td>\n      <td>0.039965</td>\n      <td>-0.031247</td>\n    </tr>\n    <tr>\n      <th>2</th>\n      <td>1718292421059025000</td>\n      <td>0.119025</td>\n      <td>0.345929</td>\n      <td>-0.000943</td>\n      <td>-0.015137</td>\n    </tr>\n    <tr>\n      <th>3</th>\n      <td>1718292421108796000</td>\n      <td>0.168796</td>\n      <td>0.051314</td>\n      <td>-0.007389</td>\n      <td>-0.034977</td>\n    </tr>\n    <tr>\n      <th>4</th>\n      <td>1718292421158567200</td>\n      <td>0.218567</td>\n      <td>-0.125445</td>\n      <td>0.192159</td>\n      <td>0.062626</td>\n    </tr>\n    <tr>\n      <th>...</th>\n      <td>...</td>\n      <td>...</td>\n      <td>...</td>\n      <td>...</td>\n      <td>...</td>\n    </tr>\n    <tr>\n      <th>36141</th>\n      <td>1718294219701012700</td>\n      <td>1798.761013</td>\n      <td>0.030543</td>\n      <td>0.022076</td>\n      <td>0.127806</td>\n    </tr>\n    <tr>\n      <th>36142</th>\n      <td>1718294219750783700</td>\n      <td>1798.810784</td>\n      <td>-0.244426</td>\n      <td>0.083532</td>\n      <td>-0.134145</td>\n    </tr>\n    <tr>\n      <th>36143</th>\n      <td>1718294219800554800</td>\n      <td>1798.860555</td>\n      <td>0.281002</td>\n      <td>0.038497</td>\n      <td>-0.162475</td>\n    </tr>\n    <tr>\n      <th>36144</th>\n      <td>1718294219850326800</td>\n      <td>1798.910327</td>\n      <td>0.436477</td>\n      <td>-0.212799</td>\n      <td>-0.276245</td>\n    </tr>\n    <tr>\n      <th>36145</th>\n      <td>1718294219900097300</td>\n      <td>1798.960097</td>\n      <td>-0.045699</td>\n      <td>0.277418</td>\n      <td>0.030452</td>\n    </tr>\n  </tbody>\n</table>\n<p>36146 rows × 5 columns</p>\n</div>"
     },
     "execution_count": 4,
     "metadata": {},
     "output_type": "execute_result"
    }
   ],
   "source": [
    "acc_phone_data"
   ],
   "metadata": {
    "collapsed": false,
    "ExecuteTime": {
     "end_time": "2024-06-13T19:47:41.194885Z",
     "start_time": "2024-06-13T19:47:41.182139Z"
    }
   },
   "id": "b139edba5d777c75",
   "execution_count": 4
  },
  {
   "cell_type": "code",
   "outputs": [
    {
     "data": {
      "text/plain": "                    time  seconds_elapsed    bpm\n0    1718292425773628200         4.833628   99.0\n1    1718292426773628200         5.833628   99.0\n2    1718292431773628200        10.833628  102.0\n3    1718292436773628200        15.833628  105.0\n4    1718292445773628200        24.833628  102.0\n..                   ...              ...    ...\n346  1718294192768804000      1771.828804  139.0\n347  1718294198768804000      1777.828804  138.0\n348  1718294203768804000      1782.828804  140.0\n349  1718294207768804000      1786.828804  140.0\n350  1718294214768804000      1793.828804  137.0\n\n[351 rows x 3 columns]",
      "text/html": "<div>\n<style scoped>\n    .dataframe tbody tr th:only-of-type {\n        vertical-align: middle;\n    }\n\n    .dataframe tbody tr th {\n        vertical-align: top;\n    }\n\n    .dataframe thead th {\n        text-align: right;\n    }\n</style>\n<table border=\"1\" class=\"dataframe\">\n  <thead>\n    <tr style=\"text-align: right;\">\n      <th></th>\n      <th>time</th>\n      <th>seconds_elapsed</th>\n      <th>bpm</th>\n    </tr>\n  </thead>\n  <tbody>\n    <tr>\n      <th>0</th>\n      <td>1718292425773628200</td>\n      <td>4.833628</td>\n      <td>99.0</td>\n    </tr>\n    <tr>\n      <th>1</th>\n      <td>1718292426773628200</td>\n      <td>5.833628</td>\n      <td>99.0</td>\n    </tr>\n    <tr>\n      <th>2</th>\n      <td>1718292431773628200</td>\n      <td>10.833628</td>\n      <td>102.0</td>\n    </tr>\n    <tr>\n      <th>3</th>\n      <td>1718292436773628200</td>\n      <td>15.833628</td>\n      <td>105.0</td>\n    </tr>\n    <tr>\n      <th>4</th>\n      <td>1718292445773628200</td>\n      <td>24.833628</td>\n      <td>102.0</td>\n    </tr>\n    <tr>\n      <th>...</th>\n      <td>...</td>\n      <td>...</td>\n      <td>...</td>\n    </tr>\n    <tr>\n      <th>346</th>\n      <td>1718294192768804000</td>\n      <td>1771.828804</td>\n      <td>139.0</td>\n    </tr>\n    <tr>\n      <th>347</th>\n      <td>1718294198768804000</td>\n      <td>1777.828804</td>\n      <td>138.0</td>\n    </tr>\n    <tr>\n      <th>348</th>\n      <td>1718294203768804000</td>\n      <td>1782.828804</td>\n      <td>140.0</td>\n    </tr>\n    <tr>\n      <th>349</th>\n      <td>1718294207768804000</td>\n      <td>1786.828804</td>\n      <td>140.0</td>\n    </tr>\n    <tr>\n      <th>350</th>\n      <td>1718294214768804000</td>\n      <td>1793.828804</td>\n      <td>137.0</td>\n    </tr>\n  </tbody>\n</table>\n<p>351 rows × 3 columns</p>\n</div>"
     },
     "execution_count": 6,
     "metadata": {},
     "output_type": "execute_result"
    }
   ],
   "source": [
    "hr_data"
   ],
   "metadata": {
    "collapsed": false,
    "ExecuteTime": {
     "end_time": "2024-06-13T19:55:43.926576Z",
     "start_time": "2024-06-13T19:55:43.908258Z"
    }
   },
   "id": "30e9b94581ec1123",
   "execution_count": 6
  },
  {
   "cell_type": "code",
   "outputs": [
    {
     "data": {
      "text/plain": "                time  seconds_elapsed  rotationRateX  rotationRateY  \\\n0       171830888137         0.299407      -0.004090       0.000108   \n1       171830888138         0.309368       0.025426       0.002001   \n2       171830888139         0.319330       0.048438       0.000055   \n3       171830888140         0.329292       0.065350       0.001478   \n4       171830888141         0.339254       0.054889       0.000051   \n...              ...              ...            ...            ...   \n199711  171831087091      1989.835288      -0.032390      -0.031577   \n199712  171831087092      1989.845250      -0.032392      -0.038479   \n199713  171831087093      1989.855212      -0.033719      -0.062665   \n199714  171831087094      1989.865175      -0.040825      -0.051831   \n199715  171831087095      1989.875137      -0.028067      -0.048761   \n\n        rotationRateZ  gravityX  gravityY  gravityZ  accelerationX  \\\n0            0.008310  0.290280  0.015449 -0.956817      -0.001354   \n1            0.008015  0.290281  0.015338 -0.956818       0.003924   \n2            0.007844  0.290286  0.014976 -0.956823       0.008832   \n3            0.012881  0.290295  0.014392 -0.956829       0.008060   \n4            0.009489  0.290294  0.013779 -0.956838       0.006001   \n...               ...       ...       ...       ...            ...   \n199711      -0.003416 -0.248496  0.968501  0.015979       0.012396   \n199712      -0.047943 -0.248322  0.968538  0.016434       0.014634   \n199713       0.001412 -0.248399  0.968511  0.016851       0.001298   \n199714      -0.009760 -0.248541  0.968462  0.017546       0.018271   \n199715      -0.008282 -0.248624  0.968429  0.018232       0.000760   \n\n        accelerationY  accelerationZ  quaternionW  quaternionX  quaternionY  \\\n0           -0.008308       0.003128     0.989145    -0.007809     0.146733   \n1            0.009534       0.005738     0.989146    -0.007758     0.146733   \n2            0.014886       0.003072     0.989147    -0.007576     0.146735   \n3            0.011243       0.001171     0.989148    -0.007283     0.146739   \n4            0.005737       0.010061     0.989151    -0.006974     0.146739   \n...               ...            ...          ...          ...          ...   \n199711      -0.008968       0.002286    -0.679752     0.625329     0.341984   \n199712      -0.004610      -0.005509    -0.679544     0.625430     0.342132   \n199713       0.020258      -0.012762    -0.679376     0.625483     0.342341   \n199714      -0.005495      -0.004851    -0.679115     0.625604     0.342625   \n199715       0.002656       0.001025    -0.678853     0.625735     0.342887   \n\n         quaternionZ  \n0       9.253165e-21  \n1       3.116341e-05  \n2       4.298453e-05  \n3       5.594616e-05  \n4       6.241814e-05  \n...              ...  \n199711 -1.730552e-01  \n199712 -1.732137e-01  \n199713 -1.732715e-01  \n199714 -1.732906e-01  \n199715 -1.733290e-01  \n\n[198959 rows x 15 columns]",
      "text/html": "<div>\n<style scoped>\n    .dataframe tbody tr th:only-of-type {\n        vertical-align: middle;\n    }\n\n    .dataframe tbody tr th {\n        vertical-align: top;\n    }\n\n    .dataframe thead th {\n        text-align: right;\n    }\n</style>\n<table border=\"1\" class=\"dataframe\">\n  <thead>\n    <tr style=\"text-align: right;\">\n      <th></th>\n      <th>time</th>\n      <th>seconds_elapsed</th>\n      <th>rotationRateX</th>\n      <th>rotationRateY</th>\n      <th>rotationRateZ</th>\n      <th>gravityX</th>\n      <th>gravityY</th>\n      <th>gravityZ</th>\n      <th>accelerationX</th>\n      <th>accelerationY</th>\n      <th>accelerationZ</th>\n      <th>quaternionW</th>\n      <th>quaternionX</th>\n      <th>quaternionY</th>\n      <th>quaternionZ</th>\n    </tr>\n  </thead>\n  <tbody>\n    <tr>\n      <th>0</th>\n      <td>171830888137</td>\n      <td>0.299407</td>\n      <td>-0.004090</td>\n      <td>0.000108</td>\n      <td>0.008310</td>\n      <td>0.290280</td>\n      <td>0.015449</td>\n      <td>-0.956817</td>\n      <td>-0.001354</td>\n      <td>-0.008308</td>\n      <td>0.003128</td>\n      <td>0.989145</td>\n      <td>-0.007809</td>\n      <td>0.146733</td>\n      <td>9.253165e-21</td>\n    </tr>\n    <tr>\n      <th>1</th>\n      <td>171830888138</td>\n      <td>0.309368</td>\n      <td>0.025426</td>\n      <td>0.002001</td>\n      <td>0.008015</td>\n      <td>0.290281</td>\n      <td>0.015338</td>\n      <td>-0.956818</td>\n      <td>0.003924</td>\n      <td>0.009534</td>\n      <td>0.005738</td>\n      <td>0.989146</td>\n      <td>-0.007758</td>\n      <td>0.146733</td>\n      <td>3.116341e-05</td>\n    </tr>\n    <tr>\n      <th>2</th>\n      <td>171830888139</td>\n      <td>0.319330</td>\n      <td>0.048438</td>\n      <td>0.000055</td>\n      <td>0.007844</td>\n      <td>0.290286</td>\n      <td>0.014976</td>\n      <td>-0.956823</td>\n      <td>0.008832</td>\n      <td>0.014886</td>\n      <td>0.003072</td>\n      <td>0.989147</td>\n      <td>-0.007576</td>\n      <td>0.146735</td>\n      <td>4.298453e-05</td>\n    </tr>\n    <tr>\n      <th>3</th>\n      <td>171830888140</td>\n      <td>0.329292</td>\n      <td>0.065350</td>\n      <td>0.001478</td>\n      <td>0.012881</td>\n      <td>0.290295</td>\n      <td>0.014392</td>\n      <td>-0.956829</td>\n      <td>0.008060</td>\n      <td>0.011243</td>\n      <td>0.001171</td>\n      <td>0.989148</td>\n      <td>-0.007283</td>\n      <td>0.146739</td>\n      <td>5.594616e-05</td>\n    </tr>\n    <tr>\n      <th>4</th>\n      <td>171830888141</td>\n      <td>0.339254</td>\n      <td>0.054889</td>\n      <td>0.000051</td>\n      <td>0.009489</td>\n      <td>0.290294</td>\n      <td>0.013779</td>\n      <td>-0.956838</td>\n      <td>0.006001</td>\n      <td>0.005737</td>\n      <td>0.010061</td>\n      <td>0.989151</td>\n      <td>-0.006974</td>\n      <td>0.146739</td>\n      <td>6.241814e-05</td>\n    </tr>\n    <tr>\n      <th>...</th>\n      <td>...</td>\n      <td>...</td>\n      <td>...</td>\n      <td>...</td>\n      <td>...</td>\n      <td>...</td>\n      <td>...</td>\n      <td>...</td>\n      <td>...</td>\n      <td>...</td>\n      <td>...</td>\n      <td>...</td>\n      <td>...</td>\n      <td>...</td>\n      <td>...</td>\n    </tr>\n    <tr>\n      <th>199711</th>\n      <td>171831087091</td>\n      <td>1989.835288</td>\n      <td>-0.032390</td>\n      <td>-0.031577</td>\n      <td>-0.003416</td>\n      <td>-0.248496</td>\n      <td>0.968501</td>\n      <td>0.015979</td>\n      <td>0.012396</td>\n      <td>-0.008968</td>\n      <td>0.002286</td>\n      <td>-0.679752</td>\n      <td>0.625329</td>\n      <td>0.341984</td>\n      <td>-1.730552e-01</td>\n    </tr>\n    <tr>\n      <th>199712</th>\n      <td>171831087092</td>\n      <td>1989.845250</td>\n      <td>-0.032392</td>\n      <td>-0.038479</td>\n      <td>-0.047943</td>\n      <td>-0.248322</td>\n      <td>0.968538</td>\n      <td>0.016434</td>\n      <td>0.014634</td>\n      <td>-0.004610</td>\n      <td>-0.005509</td>\n      <td>-0.679544</td>\n      <td>0.625430</td>\n      <td>0.342132</td>\n      <td>-1.732137e-01</td>\n    </tr>\n    <tr>\n      <th>199713</th>\n      <td>171831087093</td>\n      <td>1989.855212</td>\n      <td>-0.033719</td>\n      <td>-0.062665</td>\n      <td>0.001412</td>\n      <td>-0.248399</td>\n      <td>0.968511</td>\n      <td>0.016851</td>\n      <td>0.001298</td>\n      <td>0.020258</td>\n      <td>-0.012762</td>\n      <td>-0.679376</td>\n      <td>0.625483</td>\n      <td>0.342341</td>\n      <td>-1.732715e-01</td>\n    </tr>\n    <tr>\n      <th>199714</th>\n      <td>171831087094</td>\n      <td>1989.865175</td>\n      <td>-0.040825</td>\n      <td>-0.051831</td>\n      <td>-0.009760</td>\n      <td>-0.248541</td>\n      <td>0.968462</td>\n      <td>0.017546</td>\n      <td>0.018271</td>\n      <td>-0.005495</td>\n      <td>-0.004851</td>\n      <td>-0.679115</td>\n      <td>0.625604</td>\n      <td>0.342625</td>\n      <td>-1.732906e-01</td>\n    </tr>\n    <tr>\n      <th>199715</th>\n      <td>171831087095</td>\n      <td>1989.875137</td>\n      <td>-0.028067</td>\n      <td>-0.048761</td>\n      <td>-0.008282</td>\n      <td>-0.248624</td>\n      <td>0.968429</td>\n      <td>0.018232</td>\n      <td>0.000760</td>\n      <td>0.002656</td>\n      <td>0.001025</td>\n      <td>-0.678853</td>\n      <td>0.625735</td>\n      <td>0.342887</td>\n      <td>-1.733290e-01</td>\n    </tr>\n  </tbody>\n</table>\n<p>198959 rows × 15 columns</p>\n</div>"
     },
     "execution_count": 18,
     "metadata": {},
     "output_type": "execute_result"
    }
   ],
   "source": [
    "def remove_last_digits(number):\n",
    "    return number // 10000000\n",
    "\n",
    "#I remove the last digit from the time column, as they were to detailed and impossible to have tow equal\n",
    "wrist_data['time']=wrist_data['time'].apply(remove_last_digits)\n",
    "acc_phone_data['time']=acc_phone_data['time'].apply(remove_last_digits)\n",
    "gyro_phone_data['time']=gyro_phone_data['time'].apply(remove_last_digits)\n",
    "hr_data['time']=hr_data['time'].apply(remove_last_digits)\n",
    "\n",
    "#As result of removal, I delete all duplicates, keeping the first ones\n",
    "wrist_data = wrist_data.drop_duplicates(subset='time', keep='first')\n",
    "acc_phone_data = acc_phone_data.drop_duplicates(subset='time', keep='first')\n",
    "gyro_phone_data = gyro_phone_data.drop_duplicates(subset='time', keep='first')\n",
    "hr_data= hr_data.drop_duplicates(subset='time', keep='first')\n",
    "wrist_data"
   ],
   "metadata": {
    "collapsed": false,
    "ExecuteTime": {
     "end_time": "2024-06-13T21:34:42.009833Z",
     "start_time": "2024-06-13T21:34:41.736613Z"
    }
   },
   "id": "481323f891581b37",
   "execution_count": 18
  },
  {
   "cell_type": "code",
   "outputs": [
    {
     "data": {
      "text/plain": "             time  seconds_elapsed    bpm\n0    171829242577         4.833628   99.0\n1    171829242677         5.833628   99.0\n2    171829243177        10.833628  102.0\n3    171829243677        15.833628  105.0\n4    171829244577        24.833628  102.0\n..            ...              ...    ...\n346  171829419276      1771.828804  139.0\n347  171829419876      1777.828804  138.0\n348  171829420376      1782.828804  140.0\n349  171829420776      1786.828804  140.0\n350  171829421476      1793.828804  137.0\n\n[351 rows x 3 columns]",
      "text/html": "<div>\n<style scoped>\n    .dataframe tbody tr th:only-of-type {\n        vertical-align: middle;\n    }\n\n    .dataframe tbody tr th {\n        vertical-align: top;\n    }\n\n    .dataframe thead th {\n        text-align: right;\n    }\n</style>\n<table border=\"1\" class=\"dataframe\">\n  <thead>\n    <tr style=\"text-align: right;\">\n      <th></th>\n      <th>time</th>\n      <th>seconds_elapsed</th>\n      <th>bpm</th>\n    </tr>\n  </thead>\n  <tbody>\n    <tr>\n      <th>0</th>\n      <td>171829242577</td>\n      <td>4.833628</td>\n      <td>99.0</td>\n    </tr>\n    <tr>\n      <th>1</th>\n      <td>171829242677</td>\n      <td>5.833628</td>\n      <td>99.0</td>\n    </tr>\n    <tr>\n      <th>2</th>\n      <td>171829243177</td>\n      <td>10.833628</td>\n      <td>102.0</td>\n    </tr>\n    <tr>\n      <th>3</th>\n      <td>171829243677</td>\n      <td>15.833628</td>\n      <td>105.0</td>\n    </tr>\n    <tr>\n      <th>4</th>\n      <td>171829244577</td>\n      <td>24.833628</td>\n      <td>102.0</td>\n    </tr>\n    <tr>\n      <th>...</th>\n      <td>...</td>\n      <td>...</td>\n      <td>...</td>\n    </tr>\n    <tr>\n      <th>346</th>\n      <td>171829419276</td>\n      <td>1771.828804</td>\n      <td>139.0</td>\n    </tr>\n    <tr>\n      <th>347</th>\n      <td>171829419876</td>\n      <td>1777.828804</td>\n      <td>138.0</td>\n    </tr>\n    <tr>\n      <th>348</th>\n      <td>171829420376</td>\n      <td>1782.828804</td>\n      <td>140.0</td>\n    </tr>\n    <tr>\n      <th>349</th>\n      <td>171829420776</td>\n      <td>1786.828804</td>\n      <td>140.0</td>\n    </tr>\n    <tr>\n      <th>350</th>\n      <td>171829421476</td>\n      <td>1793.828804</td>\n      <td>137.0</td>\n    </tr>\n  </tbody>\n</table>\n<p>351 rows × 3 columns</p>\n</div>"
     },
     "execution_count": 44,
     "metadata": {},
     "output_type": "execute_result"
    }
   ],
   "source": [
    "hr_data"
   ],
   "metadata": {
    "collapsed": false,
    "ExecuteTime": {
     "end_time": "2024-06-13T20:42:13.953887Z",
     "start_time": "2024-06-13T20:42:13.938444Z"
    }
   },
   "id": "339cd9549602a4dd",
   "execution_count": 44
  },
  {
   "cell_type": "code",
   "outputs": [
    {
     "data": {
      "text/plain": "               time  seconds_elapsed  rotationRateX  rotationRateY  \\\n0      171830888141         0.339254       0.054889       0.000051   \n1      171830888146         0.389063      -0.013741       0.035983   \n2      171830888150         0.428910       0.059535       0.039031   \n3      171830888155         0.478719       0.037376       0.027580   \n4      171830888160         0.528528      -0.039627       0.028185   \n...             ...              ...            ...            ...   \n39970  171831087071      1989.636040       0.033784      -0.011388   \n39971  171831087076      1989.685852       0.065424       0.007211   \n39972  171831087081      1989.735663       0.036053       0.004645   \n39973  171831087086      1989.785476       0.076910      -0.006328   \n39974  171831087091      1989.835288      -0.032390      -0.031577   \n\n       rotationRateZ  gravityX  gravityY  gravityZ  accelerationX  \\\n0           0.009489  0.290294  0.013779 -0.956838       0.006001   \n1           0.015438  0.290963  0.013747 -0.956636      -0.004250   \n2           0.003160  0.292518  0.012094 -0.956184       0.014337   \n3          -0.020012  0.293407  0.008603 -0.955949       0.014393   \n4          -0.020608  0.299974  0.018333 -0.953771      -0.003434   \n...              ...       ...       ...       ...            ...   \n39970      -0.012408 -0.251158  0.967601  0.025834       0.004393   \n39971       0.012896 -0.250870  0.967764  0.022319       0.002885   \n39972       0.007439 -0.249910  0.968053  0.020437       0.010713   \n39973       0.004638 -0.249016  0.968336  0.017803      -0.003776   \n39974      -0.003416 -0.248496  0.968501  0.015979       0.012396   \n\n       accelerationY  ...  seconds_elapsed_gyro    z_gyro    y_gyro    x_gyro  \\\n0           0.005737  ...              0.331329  0.101168 -0.026533  0.136733   \n1          -0.006057  ...              0.381100  0.019199  0.001378  0.024666   \n2           0.019140  ...              0.430872  0.023501 -0.016983  0.073792   \n3           0.025683  ...              0.480643  0.067299  0.020638 -0.034290   \n4          -0.023628  ...              0.530415  0.050690 -0.027006 -0.092881   \n...              ...  ...                   ...       ...       ...       ...   \n39970       0.003804  ...           1989.639852  0.045774  0.130492 -0.079856   \n39971       0.015025  ...           1989.689625  0.008854 -0.022470  0.119983   \n39972      -0.005392  ...           1989.739398  0.027755  0.032990  0.015532   \n39973       0.003435  ...           1989.789171  0.051823  0.015254  0.021940   \n39974      -0.008968  ...           1989.838944  0.048580  0.049356  0.023812   \n\n       seconds_elapsed_acc     z_acc     y_acc     x_acc  seconds_elapsed_hr  \\\n0                 0.331329  0.209759 -0.113396 -0.027333            6.962509   \n1                 0.381100  0.196117 -0.133779 -0.151964            6.962509   \n2                 0.430872 -0.149825  0.085756  0.009325            6.962509   \n3                 0.480643  0.119759  0.111213  0.043591            6.962509   \n4                 0.530415  0.137773 -0.121550 -0.103128            6.962509   \n...                    ...       ...       ...       ...                 ...   \n39970          1989.639852  0.073998 -0.040207 -0.191754         1986.954281   \n39971          1989.689625 -0.326924  0.059204 -0.050872         1986.954281   \n39972          1989.739398  0.387284  0.057450 -0.097279         1986.954281   \n39973          1989.789171  0.200335  0.041384 -0.108042         1986.954281   \n39974          1989.838944  0.116986  0.076809 -0.088208         1986.954281   \n\n         bpm  \n0       98.0  \n1       98.0  \n2       98.0  \n3       98.0  \n4       98.0  \n...      ...  \n39970  151.0  \n39971  151.0  \n39972  151.0  \n39973  151.0  \n39974  151.0  \n\n[39975 rows x 25 columns]",
      "text/html": "<div>\n<style scoped>\n    .dataframe tbody tr th:only-of-type {\n        vertical-align: middle;\n    }\n\n    .dataframe tbody tr th {\n        vertical-align: top;\n    }\n\n    .dataframe thead th {\n        text-align: right;\n    }\n</style>\n<table border=\"1\" class=\"dataframe\">\n  <thead>\n    <tr style=\"text-align: right;\">\n      <th></th>\n      <th>time</th>\n      <th>seconds_elapsed</th>\n      <th>rotationRateX</th>\n      <th>rotationRateY</th>\n      <th>rotationRateZ</th>\n      <th>gravityX</th>\n      <th>gravityY</th>\n      <th>gravityZ</th>\n      <th>accelerationX</th>\n      <th>accelerationY</th>\n      <th>...</th>\n      <th>seconds_elapsed_gyro</th>\n      <th>z_gyro</th>\n      <th>y_gyro</th>\n      <th>x_gyro</th>\n      <th>seconds_elapsed_acc</th>\n      <th>z_acc</th>\n      <th>y_acc</th>\n      <th>x_acc</th>\n      <th>seconds_elapsed_hr</th>\n      <th>bpm</th>\n    </tr>\n  </thead>\n  <tbody>\n    <tr>\n      <th>0</th>\n      <td>171830888141</td>\n      <td>0.339254</td>\n      <td>0.054889</td>\n      <td>0.000051</td>\n      <td>0.009489</td>\n      <td>0.290294</td>\n      <td>0.013779</td>\n      <td>-0.956838</td>\n      <td>0.006001</td>\n      <td>0.005737</td>\n      <td>...</td>\n      <td>0.331329</td>\n      <td>0.101168</td>\n      <td>-0.026533</td>\n      <td>0.136733</td>\n      <td>0.331329</td>\n      <td>0.209759</td>\n      <td>-0.113396</td>\n      <td>-0.027333</td>\n      <td>6.962509</td>\n      <td>98.0</td>\n    </tr>\n    <tr>\n      <th>1</th>\n      <td>171830888146</td>\n      <td>0.389063</td>\n      <td>-0.013741</td>\n      <td>0.035983</td>\n      <td>0.015438</td>\n      <td>0.290963</td>\n      <td>0.013747</td>\n      <td>-0.956636</td>\n      <td>-0.004250</td>\n      <td>-0.006057</td>\n      <td>...</td>\n      <td>0.381100</td>\n      <td>0.019199</td>\n      <td>0.001378</td>\n      <td>0.024666</td>\n      <td>0.381100</td>\n      <td>0.196117</td>\n      <td>-0.133779</td>\n      <td>-0.151964</td>\n      <td>6.962509</td>\n      <td>98.0</td>\n    </tr>\n    <tr>\n      <th>2</th>\n      <td>171830888150</td>\n      <td>0.428910</td>\n      <td>0.059535</td>\n      <td>0.039031</td>\n      <td>0.003160</td>\n      <td>0.292518</td>\n      <td>0.012094</td>\n      <td>-0.956184</td>\n      <td>0.014337</td>\n      <td>0.019140</td>\n      <td>...</td>\n      <td>0.430872</td>\n      <td>0.023501</td>\n      <td>-0.016983</td>\n      <td>0.073792</td>\n      <td>0.430872</td>\n      <td>-0.149825</td>\n      <td>0.085756</td>\n      <td>0.009325</td>\n      <td>6.962509</td>\n      <td>98.0</td>\n    </tr>\n    <tr>\n      <th>3</th>\n      <td>171830888155</td>\n      <td>0.478719</td>\n      <td>0.037376</td>\n      <td>0.027580</td>\n      <td>-0.020012</td>\n      <td>0.293407</td>\n      <td>0.008603</td>\n      <td>-0.955949</td>\n      <td>0.014393</td>\n      <td>0.025683</td>\n      <td>...</td>\n      <td>0.480643</td>\n      <td>0.067299</td>\n      <td>0.020638</td>\n      <td>-0.034290</td>\n      <td>0.480643</td>\n      <td>0.119759</td>\n      <td>0.111213</td>\n      <td>0.043591</td>\n      <td>6.962509</td>\n      <td>98.0</td>\n    </tr>\n    <tr>\n      <th>4</th>\n      <td>171830888160</td>\n      <td>0.528528</td>\n      <td>-0.039627</td>\n      <td>0.028185</td>\n      <td>-0.020608</td>\n      <td>0.299974</td>\n      <td>0.018333</td>\n      <td>-0.953771</td>\n      <td>-0.003434</td>\n      <td>-0.023628</td>\n      <td>...</td>\n      <td>0.530415</td>\n      <td>0.050690</td>\n      <td>-0.027006</td>\n      <td>-0.092881</td>\n      <td>0.530415</td>\n      <td>0.137773</td>\n      <td>-0.121550</td>\n      <td>-0.103128</td>\n      <td>6.962509</td>\n      <td>98.0</td>\n    </tr>\n    <tr>\n      <th>...</th>\n      <td>...</td>\n      <td>...</td>\n      <td>...</td>\n      <td>...</td>\n      <td>...</td>\n      <td>...</td>\n      <td>...</td>\n      <td>...</td>\n      <td>...</td>\n      <td>...</td>\n      <td>...</td>\n      <td>...</td>\n      <td>...</td>\n      <td>...</td>\n      <td>...</td>\n      <td>...</td>\n      <td>...</td>\n      <td>...</td>\n      <td>...</td>\n      <td>...</td>\n      <td>...</td>\n    </tr>\n    <tr>\n      <th>39970</th>\n      <td>171831087071</td>\n      <td>1989.636040</td>\n      <td>0.033784</td>\n      <td>-0.011388</td>\n      <td>-0.012408</td>\n      <td>-0.251158</td>\n      <td>0.967601</td>\n      <td>0.025834</td>\n      <td>0.004393</td>\n      <td>0.003804</td>\n      <td>...</td>\n      <td>1989.639852</td>\n      <td>0.045774</td>\n      <td>0.130492</td>\n      <td>-0.079856</td>\n      <td>1989.639852</td>\n      <td>0.073998</td>\n      <td>-0.040207</td>\n      <td>-0.191754</td>\n      <td>1986.954281</td>\n      <td>151.0</td>\n    </tr>\n    <tr>\n      <th>39971</th>\n      <td>171831087076</td>\n      <td>1989.685852</td>\n      <td>0.065424</td>\n      <td>0.007211</td>\n      <td>0.012896</td>\n      <td>-0.250870</td>\n      <td>0.967764</td>\n      <td>0.022319</td>\n      <td>0.002885</td>\n      <td>0.015025</td>\n      <td>...</td>\n      <td>1989.689625</td>\n      <td>0.008854</td>\n      <td>-0.022470</td>\n      <td>0.119983</td>\n      <td>1989.689625</td>\n      <td>-0.326924</td>\n      <td>0.059204</td>\n      <td>-0.050872</td>\n      <td>1986.954281</td>\n      <td>151.0</td>\n    </tr>\n    <tr>\n      <th>39972</th>\n      <td>171831087081</td>\n      <td>1989.735663</td>\n      <td>0.036053</td>\n      <td>0.004645</td>\n      <td>0.007439</td>\n      <td>-0.249910</td>\n      <td>0.968053</td>\n      <td>0.020437</td>\n      <td>0.010713</td>\n      <td>-0.005392</td>\n      <td>...</td>\n      <td>1989.739398</td>\n      <td>0.027755</td>\n      <td>0.032990</td>\n      <td>0.015532</td>\n      <td>1989.739398</td>\n      <td>0.387284</td>\n      <td>0.057450</td>\n      <td>-0.097279</td>\n      <td>1986.954281</td>\n      <td>151.0</td>\n    </tr>\n    <tr>\n      <th>39973</th>\n      <td>171831087086</td>\n      <td>1989.785476</td>\n      <td>0.076910</td>\n      <td>-0.006328</td>\n      <td>0.004638</td>\n      <td>-0.249016</td>\n      <td>0.968336</td>\n      <td>0.017803</td>\n      <td>-0.003776</td>\n      <td>0.003435</td>\n      <td>...</td>\n      <td>1989.789171</td>\n      <td>0.051823</td>\n      <td>0.015254</td>\n      <td>0.021940</td>\n      <td>1989.789171</td>\n      <td>0.200335</td>\n      <td>0.041384</td>\n      <td>-0.108042</td>\n      <td>1986.954281</td>\n      <td>151.0</td>\n    </tr>\n    <tr>\n      <th>39974</th>\n      <td>171831087091</td>\n      <td>1989.835288</td>\n      <td>-0.032390</td>\n      <td>-0.031577</td>\n      <td>-0.003416</td>\n      <td>-0.248496</td>\n      <td>0.968501</td>\n      <td>0.015979</td>\n      <td>0.012396</td>\n      <td>-0.008968</td>\n      <td>...</td>\n      <td>1989.838944</td>\n      <td>0.048580</td>\n      <td>0.049356</td>\n      <td>0.023812</td>\n      <td>1989.838944</td>\n      <td>0.116986</td>\n      <td>0.076809</td>\n      <td>-0.088208</td>\n      <td>1986.954281</td>\n      <td>151.0</td>\n    </tr>\n  </tbody>\n</table>\n<p>39975 rows × 25 columns</p>\n</div>"
     },
     "execution_count": 19,
     "metadata": {},
     "output_type": "execute_result"
    }
   ],
   "source": [
    "\n",
    "# Merge the phone datasets on the timestamp column\n",
    "merged_phone = pd.merge(gyro_phone_data,acc_phone_data,how='inner', on='time',suffixes=('_gyro', '_acc'))\n",
    "# Merge the watch and the phone datasets on the timestamp column\n",
    "merged_data_1 = pd.merge(wrist_data,merged_phone,how='inner', on='time', suffixes=('_watch', '_phone'))\n",
    "\n",
    "merged_data = pd.merge_asof(merged_data_1,hr_data,direction='nearest', on='time',suffixes=('','_hr'))\n",
    "\n",
    "# Print the result ( we have more or less the same freq as the phone (20Hz)\n",
    "merged_data"
   ],
   "metadata": {
    "collapsed": false,
    "ExecuteTime": {
     "end_time": "2024-06-13T21:34:47.548358Z",
     "start_time": "2024-06-13T21:34:47.458148Z"
    }
   },
   "id": "40441b8a50142312",
   "execution_count": 19
  },
  {
   "cell_type": "code",
   "outputs": [
    {
     "data": {
      "text/plain": "Index(['time', 'seconds_elapsed', 'rotationRateX', 'rotationRateY',\n       'rotationRateZ', 'gravityX', 'gravityY', 'gravityZ', 'accelerationX',\n       'accelerationY', 'accelerationZ', 'quaternionW', 'quaternionX',\n       'quaternionY', 'quaternionZ', 'seconds_elapsed_gyro', 'z_gyro',\n       'y_gyro', 'x_gyro', 'seconds_elapsed_acc', 'z_acc', 'y_acc', 'x_acc',\n       'seconds_elapsed_hr', 'bpm'],\n      dtype='object')"
     },
     "execution_count": 52,
     "metadata": {},
     "output_type": "execute_result"
    }
   ],
   "source": [
    "merged_data.columns"
   ],
   "metadata": {
    "collapsed": false,
    "ExecuteTime": {
     "end_time": "2024-06-13T20:49:04.565418Z",
     "start_time": "2024-06-13T20:49:04.559242Z"
    }
   },
   "id": "d4464a7b1f5b167",
   "execution_count": 52
  },
  {
   "cell_type": "code",
   "outputs": [],
   "source": [
    "merged_data=merged_data.drop(columns=['seconds_elapsed','seconds_elapsed_gyro','seconds_elapsed_acc','seconds_elapsed_hr'])"
   ],
   "metadata": {
    "collapsed": false,
    "ExecuteTime": {
     "end_time": "2024-06-13T21:34:52.156885Z",
     "start_time": "2024-06-13T21:34:52.146956Z"
    }
   },
   "id": "2c347d3f0f773f6",
   "execution_count": 20
  },
  {
   "cell_type": "markdown",
   "source": [
    "Data Cleaning"
   ],
   "metadata": {
    "collapsed": false
   },
   "id": "23d31ec19cc67ced"
  },
  {
   "cell_type": "code",
   "outputs": [
    {
     "name": "stdout",
     "output_type": "stream",
     "text": [
      "Filtered DataFrame:\n"
     ]
    },
    {
     "data": {
      "text/plain": "               time  rotationRateX  rotationRateY  rotationRateZ  gravityX  \\\n436    171830890311      -0.979931       2.352368      -2.308825 -0.287103   \n475    171830890505      -1.031124       2.397954      -2.262696 -0.309386   \n476    171830890510      -1.162463       1.967188      -1.690388 -0.338038   \n496    171830890609      -0.817301       2.236203      -1.702275 -0.327271   \n531    171830890783      -1.682123       2.133633      -2.081080 -0.086568   \n...             ...            ...            ...            ...       ...   \n39970  171831087071       0.033784      -0.011388      -0.012408 -0.251158   \n39971  171831087076       0.065424       0.007211       0.012896 -0.250870   \n39972  171831087081       0.036053       0.004645       0.007439 -0.249910   \n39973  171831087086       0.076910      -0.006328       0.004638 -0.249016   \n39974  171831087091      -0.032390      -0.031577      -0.003416 -0.248496   \n\n       gravityY  gravityZ  accelerationX  accelerationY  accelerationZ  ...  \\\n436    0.839529 -0.461263       0.571741       0.142176      -0.350245  ...   \n475    0.813051 -0.493182       0.561430       0.124342      -0.156491  ...   \n476    0.808165 -0.482286       0.647578      -0.130430      -0.508329  ...   \n496    0.837892 -0.436841       0.556656      -0.050295      -0.490451  ...   \n531    0.782837 -0.616176      -0.145061       0.343109       0.580913  ...   \n...         ...       ...            ...            ...            ...  ...   \n39970  0.967601  0.025834       0.004393       0.003804      -0.005128  ...   \n39971  0.967764  0.022319       0.002885       0.015025      -0.004008  ...   \n39972  0.968053  0.020437       0.010713      -0.005392      -0.009436  ...   \n39973  0.968336  0.017803      -0.003776       0.003435       0.012929  ...   \n39974  0.968501  0.015979       0.012396      -0.008968       0.002286  ...   \n\n       quaternionX  quaternionY  quaternionZ    z_gyro    y_gyro    x_gyro  \\\n436      -0.247099    -0.456411     0.579554  0.020342  0.017498  0.036710   \n475      -0.212293    -0.456444     0.602646  0.061233  0.162423 -0.065791   \n476      -0.238484    -0.449424     0.545847 -0.009447  0.079385  0.003675   \n496      -0.248577    -0.468817     0.553069  0.002881  0.088371 -0.009540   \n531      -0.067995    -0.432769     0.867327 -0.017011 -0.057794 -0.150007   \n...            ...          ...          ...       ...       ...       ...   \n39970     0.628221     0.343883    -0.170553  0.045774  0.130492 -0.079856   \n39971     0.627143     0.343295    -0.171079  0.008854 -0.022470  0.119983   \n39972     0.626749     0.342643    -0.171560  0.027755  0.032990  0.015532   \n39973     0.625957     0.342168    -0.172391  0.051823  0.015254  0.021940   \n39974     0.625329     0.341984    -0.173055  0.048580  0.049356  0.023812   \n\n          z_acc     y_acc     x_acc    bpm  \n436    0.439010 -0.412467 -0.343175  109.0  \n475    0.210561 -0.177015 -0.322042  109.0  \n476    0.818427 -0.317241 -0.581616  109.0  \n496    0.830386 -0.192597 -0.277726  109.0  \n531   -0.074286  0.146997  0.033976  113.0  \n...         ...       ...       ...    ...  \n39970  0.073998 -0.040207 -0.191754  151.0  \n39971 -0.326924  0.059204 -0.050872  151.0  \n39972  0.387284  0.057450 -0.097279  151.0  \n39973  0.200335  0.041384 -0.108042  151.0  \n39974  0.116986  0.076809 -0.088208  151.0  \n\n[26475 rows x 21 columns]",
      "text/html": "<div>\n<style scoped>\n    .dataframe tbody tr th:only-of-type {\n        vertical-align: middle;\n    }\n\n    .dataframe tbody tr th {\n        vertical-align: top;\n    }\n\n    .dataframe thead th {\n        text-align: right;\n    }\n</style>\n<table border=\"1\" class=\"dataframe\">\n  <thead>\n    <tr style=\"text-align: right;\">\n      <th></th>\n      <th>time</th>\n      <th>rotationRateX</th>\n      <th>rotationRateY</th>\n      <th>rotationRateZ</th>\n      <th>gravityX</th>\n      <th>gravityY</th>\n      <th>gravityZ</th>\n      <th>accelerationX</th>\n      <th>accelerationY</th>\n      <th>accelerationZ</th>\n      <th>...</th>\n      <th>quaternionX</th>\n      <th>quaternionY</th>\n      <th>quaternionZ</th>\n      <th>z_gyro</th>\n      <th>y_gyro</th>\n      <th>x_gyro</th>\n      <th>z_acc</th>\n      <th>y_acc</th>\n      <th>x_acc</th>\n      <th>bpm</th>\n    </tr>\n  </thead>\n  <tbody>\n    <tr>\n      <th>436</th>\n      <td>171830890311</td>\n      <td>-0.979931</td>\n      <td>2.352368</td>\n      <td>-2.308825</td>\n      <td>-0.287103</td>\n      <td>0.839529</td>\n      <td>-0.461263</td>\n      <td>0.571741</td>\n      <td>0.142176</td>\n      <td>-0.350245</td>\n      <td>...</td>\n      <td>-0.247099</td>\n      <td>-0.456411</td>\n      <td>0.579554</td>\n      <td>0.020342</td>\n      <td>0.017498</td>\n      <td>0.036710</td>\n      <td>0.439010</td>\n      <td>-0.412467</td>\n      <td>-0.343175</td>\n      <td>109.0</td>\n    </tr>\n    <tr>\n      <th>475</th>\n      <td>171830890505</td>\n      <td>-1.031124</td>\n      <td>2.397954</td>\n      <td>-2.262696</td>\n      <td>-0.309386</td>\n      <td>0.813051</td>\n      <td>-0.493182</td>\n      <td>0.561430</td>\n      <td>0.124342</td>\n      <td>-0.156491</td>\n      <td>...</td>\n      <td>-0.212293</td>\n      <td>-0.456444</td>\n      <td>0.602646</td>\n      <td>0.061233</td>\n      <td>0.162423</td>\n      <td>-0.065791</td>\n      <td>0.210561</td>\n      <td>-0.177015</td>\n      <td>-0.322042</td>\n      <td>109.0</td>\n    </tr>\n    <tr>\n      <th>476</th>\n      <td>171830890510</td>\n      <td>-1.162463</td>\n      <td>1.967188</td>\n      <td>-1.690388</td>\n      <td>-0.338038</td>\n      <td>0.808165</td>\n      <td>-0.482286</td>\n      <td>0.647578</td>\n      <td>-0.130430</td>\n      <td>-0.508329</td>\n      <td>...</td>\n      <td>-0.238484</td>\n      <td>-0.449424</td>\n      <td>0.545847</td>\n      <td>-0.009447</td>\n      <td>0.079385</td>\n      <td>0.003675</td>\n      <td>0.818427</td>\n      <td>-0.317241</td>\n      <td>-0.581616</td>\n      <td>109.0</td>\n    </tr>\n    <tr>\n      <th>496</th>\n      <td>171830890609</td>\n      <td>-0.817301</td>\n      <td>2.236203</td>\n      <td>-1.702275</td>\n      <td>-0.327271</td>\n      <td>0.837892</td>\n      <td>-0.436841</td>\n      <td>0.556656</td>\n      <td>-0.050295</td>\n      <td>-0.490451</td>\n      <td>...</td>\n      <td>-0.248577</td>\n      <td>-0.468817</td>\n      <td>0.553069</td>\n      <td>0.002881</td>\n      <td>0.088371</td>\n      <td>-0.009540</td>\n      <td>0.830386</td>\n      <td>-0.192597</td>\n      <td>-0.277726</td>\n      <td>109.0</td>\n    </tr>\n    <tr>\n      <th>531</th>\n      <td>171830890783</td>\n      <td>-1.682123</td>\n      <td>2.133633</td>\n      <td>-2.081080</td>\n      <td>-0.086568</td>\n      <td>0.782837</td>\n      <td>-0.616176</td>\n      <td>-0.145061</td>\n      <td>0.343109</td>\n      <td>0.580913</td>\n      <td>...</td>\n      <td>-0.067995</td>\n      <td>-0.432769</td>\n      <td>0.867327</td>\n      <td>-0.017011</td>\n      <td>-0.057794</td>\n      <td>-0.150007</td>\n      <td>-0.074286</td>\n      <td>0.146997</td>\n      <td>0.033976</td>\n      <td>113.0</td>\n    </tr>\n    <tr>\n      <th>...</th>\n      <td>...</td>\n      <td>...</td>\n      <td>...</td>\n      <td>...</td>\n      <td>...</td>\n      <td>...</td>\n      <td>...</td>\n      <td>...</td>\n      <td>...</td>\n      <td>...</td>\n      <td>...</td>\n      <td>...</td>\n      <td>...</td>\n      <td>...</td>\n      <td>...</td>\n      <td>...</td>\n      <td>...</td>\n      <td>...</td>\n      <td>...</td>\n      <td>...</td>\n      <td>...</td>\n    </tr>\n    <tr>\n      <th>39970</th>\n      <td>171831087071</td>\n      <td>0.033784</td>\n      <td>-0.011388</td>\n      <td>-0.012408</td>\n      <td>-0.251158</td>\n      <td>0.967601</td>\n      <td>0.025834</td>\n      <td>0.004393</td>\n      <td>0.003804</td>\n      <td>-0.005128</td>\n      <td>...</td>\n      <td>0.628221</td>\n      <td>0.343883</td>\n      <td>-0.170553</td>\n      <td>0.045774</td>\n      <td>0.130492</td>\n      <td>-0.079856</td>\n      <td>0.073998</td>\n      <td>-0.040207</td>\n      <td>-0.191754</td>\n      <td>151.0</td>\n    </tr>\n    <tr>\n      <th>39971</th>\n      <td>171831087076</td>\n      <td>0.065424</td>\n      <td>0.007211</td>\n      <td>0.012896</td>\n      <td>-0.250870</td>\n      <td>0.967764</td>\n      <td>0.022319</td>\n      <td>0.002885</td>\n      <td>0.015025</td>\n      <td>-0.004008</td>\n      <td>...</td>\n      <td>0.627143</td>\n      <td>0.343295</td>\n      <td>-0.171079</td>\n      <td>0.008854</td>\n      <td>-0.022470</td>\n      <td>0.119983</td>\n      <td>-0.326924</td>\n      <td>0.059204</td>\n      <td>-0.050872</td>\n      <td>151.0</td>\n    </tr>\n    <tr>\n      <th>39972</th>\n      <td>171831087081</td>\n      <td>0.036053</td>\n      <td>0.004645</td>\n      <td>0.007439</td>\n      <td>-0.249910</td>\n      <td>0.968053</td>\n      <td>0.020437</td>\n      <td>0.010713</td>\n      <td>-0.005392</td>\n      <td>-0.009436</td>\n      <td>...</td>\n      <td>0.626749</td>\n      <td>0.342643</td>\n      <td>-0.171560</td>\n      <td>0.027755</td>\n      <td>0.032990</td>\n      <td>0.015532</td>\n      <td>0.387284</td>\n      <td>0.057450</td>\n      <td>-0.097279</td>\n      <td>151.0</td>\n    </tr>\n    <tr>\n      <th>39973</th>\n      <td>171831087086</td>\n      <td>0.076910</td>\n      <td>-0.006328</td>\n      <td>0.004638</td>\n      <td>-0.249016</td>\n      <td>0.968336</td>\n      <td>0.017803</td>\n      <td>-0.003776</td>\n      <td>0.003435</td>\n      <td>0.012929</td>\n      <td>...</td>\n      <td>0.625957</td>\n      <td>0.342168</td>\n      <td>-0.172391</td>\n      <td>0.051823</td>\n      <td>0.015254</td>\n      <td>0.021940</td>\n      <td>0.200335</td>\n      <td>0.041384</td>\n      <td>-0.108042</td>\n      <td>151.0</td>\n    </tr>\n    <tr>\n      <th>39974</th>\n      <td>171831087091</td>\n      <td>-0.032390</td>\n      <td>-0.031577</td>\n      <td>-0.003416</td>\n      <td>-0.248496</td>\n      <td>0.968501</td>\n      <td>0.015979</td>\n      <td>0.012396</td>\n      <td>-0.008968</td>\n      <td>0.002286</td>\n      <td>...</td>\n      <td>0.625329</td>\n      <td>0.341984</td>\n      <td>-0.173055</td>\n      <td>0.048580</td>\n      <td>0.049356</td>\n      <td>0.023812</td>\n      <td>0.116986</td>\n      <td>0.076809</td>\n      <td>-0.088208</td>\n      <td>151.0</td>\n    </tr>\n  </tbody>\n</table>\n<p>26475 rows × 21 columns</p>\n</div>"
     },
     "execution_count": 21,
     "metadata": {},
     "output_type": "execute_result"
    }
   ],
   "source": [
    "from scipy.stats import norm\n",
    "def chauvenet_criterion_df(df, c=4):\n",
    "    \"\"\"\n",
    "    Remove outliers from a DataFrame using Chauvenet's criterion.\n",
    "    \n",
    "    Parameters:\n",
    "    - df: pandas DataFrame of data points\n",
    "    - c: constant value for Chauvenet's criterion (default is 2)\n",
    "    \n",
    "    Returns:\n",
    "    - filtered_df: DataFrame with outliers removed\n",
    "    \"\"\"\n",
    "    filtered_df = pd.DataFrame()\n",
    "\n",
    "    for column in df.columns:\n",
    "        data = df[column]\n",
    "        N = len(data)\n",
    "        mean = np.mean(data)\n",
    "        std = np.std(data)\n",
    "        \n",
    "        # Calculate the criterion\n",
    "        criterion = c / np.sqrt(N)\n",
    "        \n",
    "        # Calculate the deviations\n",
    "        deviations = np.abs(data - mean) / std\n",
    "        \n",
    "        # Calculate the probability of each deviation\n",
    "        prob = 2 * (1 - norm.cdf(deviations))\n",
    "        \n",
    "        # Apply Chauvenet's criterion\n",
    "        mask = prob >= criterion\n",
    "        \n",
    "        # Add filtered column to the result DataFrame\n",
    "        filtered_df[column] = data[mask]\n",
    "    filtered_df = filtered_df.dropna()\n",
    "    return filtered_df\n",
    "\n",
    "\n",
    "filtered_df = chauvenet_criterion_df(merged_data)\n",
    "print(\"Filtered DataFrame:\")\n",
    "filtered_df\n"
   ],
   "metadata": {
    "collapsed": false,
    "ExecuteTime": {
     "end_time": "2024-06-13T21:34:54.859872Z",
     "start_time": "2024-06-13T21:34:54.668752Z"
    }
   },
   "id": "73944d74b0064053",
   "execution_count": 21
  },
  {
   "cell_type": "code",
   "outputs": [],
   "source": [
    "# 1:cycling 2:strength 3:Elyptic\n",
    "filtered_df['sport']=2\n"
   ],
   "metadata": {
    "collapsed": false,
    "ExecuteTime": {
     "end_time": "2024-06-13T21:34:57.657674Z",
     "start_time": "2024-06-13T21:34:57.653112Z"
    }
   },
   "id": "8f22f91975741a6d",
   "execution_count": 22
  },
  {
   "cell_type": "markdown",
   "source": [
    "We save it to a CSV"
   ],
   "metadata": {
    "collapsed": false
   },
   "id": "e475b79d64a0d76"
  },
  {
   "cell_type": "code",
   "outputs": [],
   "source": [
    "# Write the filtered DataFrame to a CSV file (change the name for each sport)\n",
    "filtered_df.to_csv('clean_data_strength.csv', index=False)"
   ],
   "metadata": {
    "collapsed": false,
    "ExecuteTime": {
     "end_time": "2024-06-13T21:35:02.678477Z",
     "start_time": "2024-06-13T21:35:01.299779Z"
    }
   },
   "id": "453721fca912d2f1",
   "execution_count": 23
  },
  {
   "cell_type": "code",
   "outputs": [],
   "source": [],
   "metadata": {
    "collapsed": false
   },
   "id": "e14ff8e5f7b22c10"
  }
 ],
 "metadata": {
  "kernelspec": {
   "display_name": "Python 3",
   "language": "python",
   "name": "python3"
  },
  "language_info": {
   "codemirror_mode": {
    "name": "ipython",
    "version": 2
   },
   "file_extension": ".py",
   "mimetype": "text/x-python",
   "name": "python",
   "nbconvert_exporter": "python",
   "pygments_lexer": "ipython2",
   "version": "2.7.6"
  }
 },
 "nbformat": 4,
 "nbformat_minor": 5
}
